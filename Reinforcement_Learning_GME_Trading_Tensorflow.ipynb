{
  "nbformat": 4,
  "nbformat_minor": 0,
  "metadata": {
    "kernelspec": {
      "display_name": "Python 3",
      "language": "python",
      "name": "python3"
    },
    "language_info": {
      "codemirror_mode": {
        "name": "ipython",
        "version": 3
      },
      "file_extension": ".py",
      "mimetype": "text/x-python",
      "name": "python",
      "nbconvert_exporter": "python",
      "pygments_lexer": "ipython3",
      "version": "3.7.3"
    },
    "colab": {
      "provenance": [],
      "collapsed_sections": [
        "zBtJWV9w9y3Q",
        "n2pDtqga-zpH"
      ],
      "toc_visible": true
    }
  },
  "cells": [
    {
      "cell_type": "markdown",
      "metadata": {
        "id": "wR6IeiK_rt8j"
      },
      "source": [
        "# 0. Install and Import dependencies"
      ]
    },
    {
      "cell_type": "code",
      "metadata": {
        "collapsed": true,
        "id": "US8UngK_rt8s",
        "colab": {
          "base_uri": "https://localhost:8080/"
        },
        "outputId": "85d12168-5fa4-44c4-9e0c-ea6e7a4864bf"
      },
      "source": [
        "!pip install tensorflow-gpu==1.15.0 tensorflow==1.15.0 stable-baselines gym-anytrading gym"
      ],
      "execution_count": null,
      "outputs": [
        {
          "output_type": "stream",
          "text": [
            "Collecting tensorflow-gpu==1.15.0\n",
            "\u001b[?25l  Downloading https://files.pythonhosted.org/packages/bc/72/d06017379ad4760dc58781c765376ce4ba5dcf3c08d37032eeefbccf1c51/tensorflow_gpu-1.15.0-cp37-cp37m-manylinux2010_x86_64.whl (411.5MB)\n",
            "\u001b[K     |████████████████████████████████| 411.5MB 32kB/s \n",
            "\u001b[?25hCollecting tensorflow==1.15.0\n",
            "\u001b[?25l  Downloading https://files.pythonhosted.org/packages/92/2b/e3af15221da9ff323521565fa3324b0d7c7c5b1d7a8ca66984c8d59cb0ce/tensorflow-1.15.0-cp37-cp37m-manylinux2010_x86_64.whl (412.3MB)\n",
            "\u001b[K     |████████████████████████████████| 412.3MB 39kB/s \n",
            "\u001b[?25hCollecting stable-baselines\n",
            "\u001b[?25l  Downloading https://files.pythonhosted.org/packages/a2/c5/a60adb848f86219d19dd2d2bc4223b80e8d42802cc9e816955b6cfeffbdb/stable_baselines-2.10.2-py3-none-any.whl (240kB)\n",
            "\u001b[K     |████████████████████████████████| 245kB 44.5MB/s \n",
            "\u001b[?25hCollecting gym-anytrading\n",
            "\u001b[?25l  Downloading https://files.pythonhosted.org/packages/12/fe/80fb1c8e74e58dc9854f30dd5fed38038dc3c37208e8bb87fc01520d0499/gym_anytrading-1.2.0-py3-none-any.whl (171kB)\n",
            "\u001b[K     |████████████████████████████████| 174kB 37.3MB/s \n",
            "\u001b[?25hRequirement already satisfied: gym in /usr/local/lib/python3.7/dist-packages (0.17.3)\n",
            "Requirement already satisfied: google-pasta>=0.1.6 in /usr/local/lib/python3.7/dist-packages (from tensorflow-gpu==1.15.0) (0.2.0)\n",
            "Collecting keras-applications>=1.0.8\n",
            "\u001b[?25l  Downloading https://files.pythonhosted.org/packages/71/e3/19762fdfc62877ae9102edf6342d71b28fbfd9dea3d2f96a882ce099b03f/Keras_Applications-1.0.8-py3-none-any.whl (50kB)\n",
            "\u001b[K     |████████████████████████████████| 51kB 5.1MB/s \n",
            "\u001b[?25hRequirement already satisfied: protobuf>=3.6.1 in /usr/local/lib/python3.7/dist-packages (from tensorflow-gpu==1.15.0) (3.12.4)\n",
            "Collecting tensorboard<1.16.0,>=1.15.0\n",
            "\u001b[?25l  Downloading https://files.pythonhosted.org/packages/1e/e9/d3d747a97f7188f48aa5eda486907f3b345cd409f0a0850468ba867db246/tensorboard-1.15.0-py3-none-any.whl (3.8MB)\n",
            "\u001b[K     |████████████████████████████████| 3.8MB 40.3MB/s \n",
            "\u001b[?25hRequirement already satisfied: wrapt>=1.11.1 in /usr/local/lib/python3.7/dist-packages (from tensorflow-gpu==1.15.0) (1.12.1)\n",
            "Requirement already satisfied: keras-preprocessing>=1.0.5 in /usr/local/lib/python3.7/dist-packages (from tensorflow-gpu==1.15.0) (1.1.2)\n",
            "Requirement already satisfied: six>=1.10.0 in /usr/local/lib/python3.7/dist-packages (from tensorflow-gpu==1.15.0) (1.15.0)\n",
            "Collecting tensorflow-estimator==1.15.1\n",
            "\u001b[?25l  Downloading https://files.pythonhosted.org/packages/de/62/2ee9cd74c9fa2fa450877847ba560b260f5d0fb70ee0595203082dafcc9d/tensorflow_estimator-1.15.1-py2.py3-none-any.whl (503kB)\n",
            "\u001b[K     |████████████████████████████████| 512kB 41.7MB/s \n",
            "\u001b[?25hRequirement already satisfied: numpy<2.0,>=1.16.0 in /usr/local/lib/python3.7/dist-packages (from tensorflow-gpu==1.15.0) (1.19.5)\n",
            "Requirement already satisfied: termcolor>=1.1.0 in /usr/local/lib/python3.7/dist-packages (from tensorflow-gpu==1.15.0) (1.1.0)\n",
            "Requirement already satisfied: absl-py>=0.7.0 in /usr/local/lib/python3.7/dist-packages (from tensorflow-gpu==1.15.0) (0.12.0)\n",
            "Requirement already satisfied: astor>=0.6.0 in /usr/local/lib/python3.7/dist-packages (from tensorflow-gpu==1.15.0) (0.8.1)\n",
            "Collecting gast==0.2.2\n",
            "  Downloading https://files.pythonhosted.org/packages/4e/35/11749bf99b2d4e3cceb4d55ca22590b0d7c2c62b9de38ac4a4a7f4687421/gast-0.2.2.tar.gz\n",
            "Requirement already satisfied: wheel>=0.26 in /usr/local/lib/python3.7/dist-packages (from tensorflow-gpu==1.15.0) (0.36.2)\n",
            "Requirement already satisfied: opt-einsum>=2.3.2 in /usr/local/lib/python3.7/dist-packages (from tensorflow-gpu==1.15.0) (3.3.0)\n",
            "Requirement already satisfied: grpcio>=1.8.6 in /usr/local/lib/python3.7/dist-packages (from tensorflow-gpu==1.15.0) (1.34.1)\n",
            "Requirement already satisfied: joblib in /usr/local/lib/python3.7/dist-packages (from stable-baselines) (1.0.1)\n",
            "Requirement already satisfied: pandas in /usr/local/lib/python3.7/dist-packages (from stable-baselines) (1.1.5)\n",
            "Requirement already satisfied: matplotlib in /usr/local/lib/python3.7/dist-packages (from stable-baselines) (3.2.2)\n",
            "Requirement already satisfied: scipy in /usr/local/lib/python3.7/dist-packages (from stable-baselines) (1.4.1)\n",
            "Requirement already satisfied: cloudpickle>=0.5.5 in /usr/local/lib/python3.7/dist-packages (from stable-baselines) (1.3.0)\n",
            "Requirement already satisfied: opencv-python in /usr/local/lib/python3.7/dist-packages (from stable-baselines) (4.1.2.30)\n",
            "Requirement already satisfied: pyglet<=1.5.0,>=1.4.0 in /usr/local/lib/python3.7/dist-packages (from gym) (1.5.0)\n",
            "Requirement already satisfied: h5py in /usr/local/lib/python3.7/dist-packages (from keras-applications>=1.0.8->tensorflow-gpu==1.15.0) (3.1.0)\n",
            "Requirement already satisfied: setuptools in /usr/local/lib/python3.7/dist-packages (from protobuf>=3.6.1->tensorflow-gpu==1.15.0) (56.1.0)\n",
            "Requirement already satisfied: werkzeug>=0.11.15 in /usr/local/lib/python3.7/dist-packages (from tensorboard<1.16.0,>=1.15.0->tensorflow-gpu==1.15.0) (1.0.1)\n",
            "Requirement already satisfied: markdown>=2.6.8 in /usr/local/lib/python3.7/dist-packages (from tensorboard<1.16.0,>=1.15.0->tensorflow-gpu==1.15.0) (3.3.4)\n",
            "Requirement already satisfied: pytz>=2017.2 in /usr/local/lib/python3.7/dist-packages (from pandas->stable-baselines) (2018.9)\n",
            "Requirement already satisfied: python-dateutil>=2.7.3 in /usr/local/lib/python3.7/dist-packages (from pandas->stable-baselines) (2.8.1)\n",
            "Requirement already satisfied: pyparsing!=2.0.4,!=2.1.2,!=2.1.6,>=2.0.1 in /usr/local/lib/python3.7/dist-packages (from matplotlib->stable-baselines) (2.4.7)\n",
            "Requirement already satisfied: cycler>=0.10 in /usr/local/lib/python3.7/dist-packages (from matplotlib->stable-baselines) (0.10.0)\n",
            "Requirement already satisfied: kiwisolver>=1.0.1 in /usr/local/lib/python3.7/dist-packages (from matplotlib->stable-baselines) (1.3.1)\n",
            "Requirement already satisfied: future in /usr/local/lib/python3.7/dist-packages (from pyglet<=1.5.0,>=1.4.0->gym) (0.16.0)\n",
            "Requirement already satisfied: cached-property; python_version < \"3.8\" in /usr/local/lib/python3.7/dist-packages (from h5py->keras-applications>=1.0.8->tensorflow-gpu==1.15.0) (1.5.2)\n",
            "Requirement already satisfied: importlib-metadata; python_version < \"3.8\" in /usr/local/lib/python3.7/dist-packages (from markdown>=2.6.8->tensorboard<1.16.0,>=1.15.0->tensorflow-gpu==1.15.0) (4.0.1)\n",
            "Requirement already satisfied: typing-extensions>=3.6.4; python_version < \"3.8\" in /usr/local/lib/python3.7/dist-packages (from importlib-metadata; python_version < \"3.8\"->markdown>=2.6.8->tensorboard<1.16.0,>=1.15.0->tensorflow-gpu==1.15.0) (3.7.4.3)\n",
            "Requirement already satisfied: zipp>=0.5 in /usr/local/lib/python3.7/dist-packages (from importlib-metadata; python_version < \"3.8\"->markdown>=2.6.8->tensorboard<1.16.0,>=1.15.0->tensorflow-gpu==1.15.0) (3.4.1)\n",
            "Building wheels for collected packages: gast\n",
            "  Building wheel for gast (setup.py) ... \u001b[?25l\u001b[?25hdone\n",
            "  Created wheel for gast: filename=gast-0.2.2-cp37-none-any.whl size=7540 sha256=ccc7a23eecc23a0afbeaa5a2e4f1631a478eefd905d04a47ce6217c8f751fe40\n",
            "  Stored in directory: /root/.cache/pip/wheels/5c/2e/7e/a1d4d4fcebe6c381f378ce7743a3ced3699feb89bcfbdadadd\n",
            "Successfully built gast\n",
            "\u001b[31mERROR: tensorflow-probability 0.12.1 has requirement gast>=0.3.2, but you'll have gast 0.2.2 which is incompatible.\u001b[0m\n",
            "\u001b[31mERROR: kapre 0.3.5 has requirement tensorflow>=2.0.0, but you'll have tensorflow 1.15.0 which is incompatible.\u001b[0m\n",
            "Installing collected packages: keras-applications, tensorboard, tensorflow-estimator, gast, tensorflow-gpu, tensorflow, stable-baselines, gym-anytrading\n",
            "  Found existing installation: tensorboard 2.5.0\n",
            "    Uninstalling tensorboard-2.5.0:\n",
            "      Successfully uninstalled tensorboard-2.5.0\n",
            "  Found existing installation: tensorflow-estimator 2.5.0\n",
            "    Uninstalling tensorflow-estimator-2.5.0:\n",
            "      Successfully uninstalled tensorflow-estimator-2.5.0\n",
            "  Found existing installation: gast 0.4.0\n",
            "    Uninstalling gast-0.4.0:\n",
            "      Successfully uninstalled gast-0.4.0\n",
            "  Found existing installation: tensorflow 2.5.0\n",
            "    Uninstalling tensorflow-2.5.0:\n",
            "      Successfully uninstalled tensorflow-2.5.0\n",
            "Successfully installed gast-0.2.2 gym-anytrading-1.2.0 keras-applications-1.0.8 stable-baselines-2.10.2 tensorboard-1.15.0 tensorflow-1.15.0 tensorflow-estimator-1.15.1 tensorflow-gpu-1.15.0\n"
          ],
          "name": "stdout"
        }
      ]
    },
    {
      "cell_type": "code",
      "metadata": {
        "id": "NOMnTiBwrt8u",
        "colab": {
          "base_uri": "https://localhost:8080/"
        },
        "outputId": "9e8c510c-c63a-438c-ef83-a02e18f34cb8"
      },
      "source": [
        "# Gym stuff\n",
        "import gym\n",
        "import gym_anytrading\n",
        "\n",
        "# Stable baselines - rl stuff\n",
        "from stable_baselines.common.vec_env import DummyVecEnv\n",
        "from stable_baselines import A2C # Action Critic\n",
        "from stable_baselines import DQN # Deep Q network\n",
        "\n",
        "# Processing libraries\n",
        "import numpy as np\n",
        "import pandas as pd\n",
        "from matplotlib import pyplot as plt"
      ],
      "execution_count": null,
      "outputs": [
        {
          "output_type": "stream",
          "text": [
            "WARNING:tensorflow:\n",
            "The TensorFlow contrib module will not be included in TensorFlow 2.0.\n",
            "For more information, please see:\n",
            "  * https://github.com/tensorflow/community/blob/master/rfcs/20180907-contrib-sunset.md\n",
            "  * https://github.com/tensorflow/addons\n",
            "  * https://github.com/tensorflow/io (for I/O related ops)\n",
            "If you depend on functionality not listed there, please file an issue.\n",
            "\n"
          ],
          "name": "stdout"
        },
        {
          "output_type": "stream",
          "text": [
            "/usr/local/lib/python3.7/dist-packages/stable_baselines/__init__.py:33: UserWarning: stable-baselines is in maintenance mode, please use [Stable-Baselines3 (SB3)](https://github.com/DLR-RM/stable-baselines3) for an up-to-date version. You can find a [migration guide](https://stable-baselines3.readthedocs.io/en/master/guide/migration.html) in SB3 documentation.\n",
            "  \"stable-baselines is in maintenance mode, please use [Stable-Baselines3 (SB3)](https://github.com/DLR-RM/stable-baselines3) for an up-to-date version. You can find a [migration guide](https://stable-baselines3.readthedocs.io/en/master/guide/migration.html) in SB3 documentation.\"\n"
          ],
          "name": "stderr"
        }
      ]
    },
    {
      "cell_type": "markdown",
      "metadata": {
        "id": "3HE3MfoMrt8v"
      },
      "source": [
        "# 1. Bring in Marketwatch GME Data\n",
        "https://www.marketwatch.com/investing/stock/gme/download-data?startDate=5/19/2020&endDate=05/19/2021\n",
        "\n"
      ]
    },
    {
      "cell_type": "code",
      "metadata": {
        "colab": {
          "base_uri": "https://localhost:8080/"
        },
        "id": "aZ4wAJMkyB_6",
        "outputId": "f28e9061-bfd4-4282-e267-16f7ffdbba0f"
      },
      "source": [
        "!pip install gdown\n",
        "!gdown  https://drive.google.com/uc?id=1qJAHj2UPWM6qxu7K3lxswj0qRuwxFItZ"
      ],
      "execution_count": null,
      "outputs": [
        {
          "output_type": "stream",
          "text": [
            "Requirement already satisfied: gdown in /usr/local/lib/python3.7/dist-packages (3.6.4)\n",
            "Requirement already satisfied: requests in /usr/local/lib/python3.7/dist-packages (from gdown) (2.23.0)\n",
            "Requirement already satisfied: tqdm in /usr/local/lib/python3.7/dist-packages (from gdown) (4.41.1)\n",
            "Requirement already satisfied: six in /usr/local/lib/python3.7/dist-packages (from gdown) (1.15.0)\n",
            "Requirement already satisfied: urllib3!=1.25.0,!=1.25.1,<1.26,>=1.21.1 in /usr/local/lib/python3.7/dist-packages (from requests->gdown) (1.24.3)\n",
            "Requirement already satisfied: chardet<4,>=3.0.2 in /usr/local/lib/python3.7/dist-packages (from requests->gdown) (3.0.4)\n",
            "Requirement already satisfied: certifi>=2017.4.17 in /usr/local/lib/python3.7/dist-packages (from requests->gdown) (2020.12.5)\n",
            "Requirement already satisfied: idna<3,>=2.5 in /usr/local/lib/python3.7/dist-packages (from requests->gdown) (2.10)\n",
            "Downloading...\n",
            "From: https://drive.google.com/uc?id=1qJAHj2UPWM6qxu7K3lxswj0qRuwxFItZ\n",
            "To: /content/gme_data.csv\n",
            "100% 13.9k/13.9k [00:00<00:00, 6.22MB/s]\n"
          ],
          "name": "stdout"
        }
      ]
    },
    {
      "cell_type": "markdown",
      "metadata": {
        "id": "31T9lvsjzb5_"
      },
      "source": [
        "Loading Data using Pandas"
      ]
    },
    {
      "cell_type": "code",
      "metadata": {
        "id": "zJZz7vaGrt8v"
      },
      "source": [
        "df = pd.read_csv('gme_data.csv')"
      ],
      "execution_count": null,
      "outputs": []
    },
    {
      "cell_type": "code",
      "metadata": {
        "id": "wiOWzDG4rt8w",
        "colab": {
          "base_uri": "https://localhost:8080/",
          "height": 198
        },
        "outputId": "1dc3e04f-ef00-4dcc-ffbe-3355281df4e2"
      },
      "source": [
        "df.head()"
      ],
      "execution_count": null,
      "outputs": [
        {
          "output_type": "execute_result",
          "data": {
            "text/html": [
              "<div>\n",
              "<style scoped>\n",
              "    .dataframe tbody tr th:only-of-type {\n",
              "        vertical-align: middle;\n",
              "    }\n",
              "\n",
              "    .dataframe tbody tr th {\n",
              "        vertical-align: top;\n",
              "    }\n",
              "\n",
              "    .dataframe thead th {\n",
              "        text-align: right;\n",
              "    }\n",
              "</style>\n",
              "<table border=\"1\" class=\"dataframe\">\n",
              "  <thead>\n",
              "    <tr style=\"text-align: right;\">\n",
              "      <th></th>\n",
              "      <th>Date</th>\n",
              "      <th>Open</th>\n",
              "      <th>High</th>\n",
              "      <th>Low</th>\n",
              "      <th>Close</th>\n",
              "      <th>Volume</th>\n",
              "    </tr>\n",
              "  </thead>\n",
              "  <tbody>\n",
              "    <tr>\n",
              "      <th>0</th>\n",
              "      <td>05/19/2021</td>\n",
              "      <td>171.99</td>\n",
              "      <td>178.98</td>\n",
              "      <td>164.15</td>\n",
              "      <td>168.83</td>\n",
              "      <td>4,825,905</td>\n",
              "    </tr>\n",
              "    <tr>\n",
              "      <th>1</th>\n",
              "      <td>05/18/2021</td>\n",
              "      <td>174.54</td>\n",
              "      <td>189.20</td>\n",
              "      <td>168.27</td>\n",
              "      <td>180.67</td>\n",
              "      <td>7,738,717</td>\n",
              "    </tr>\n",
              "    <tr>\n",
              "      <th>2</th>\n",
              "      <td>05/17/2021</td>\n",
              "      <td>159.85</td>\n",
              "      <td>182.50</td>\n",
              "      <td>159.00</td>\n",
              "      <td>180.60</td>\n",
              "      <td>7,372,763</td>\n",
              "    </tr>\n",
              "    <tr>\n",
              "      <th>3</th>\n",
              "      <td>05/14/2021</td>\n",
              "      <td>160.00</td>\n",
              "      <td>166.47</td>\n",
              "      <td>156.22</td>\n",
              "      <td>159.92</td>\n",
              "      <td>4,293,530</td>\n",
              "    </tr>\n",
              "    <tr>\n",
              "      <th>4</th>\n",
              "      <td>05/13/2021</td>\n",
              "      <td>147.44</td>\n",
              "      <td>169.95</td>\n",
              "      <td>146.43</td>\n",
              "      <td>164.50</td>\n",
              "      <td>8,873,487</td>\n",
              "    </tr>\n",
              "  </tbody>\n",
              "</table>\n",
              "</div>"
            ],
            "text/plain": [
              "         Date    Open    High     Low   Close     Volume\n",
              "0  05/19/2021  171.99  178.98  164.15  168.83  4,825,905\n",
              "1  05/18/2021  174.54  189.20  168.27  180.67  7,738,717\n",
              "2  05/17/2021  159.85  182.50  159.00  180.60  7,372,763\n",
              "3  05/14/2021  160.00  166.47  156.22  159.92  4,293,530\n",
              "4  05/13/2021  147.44  169.95  146.43  164.50  8,873,487"
            ]
          },
          "metadata": {
            "tags": []
          },
          "execution_count": 5
        }
      ]
    },
    {
      "cell_type": "code",
      "metadata": {
        "colab": {
          "base_uri": "https://localhost:8080/"
        },
        "id": "rjBsxF7lOMmr",
        "outputId": "d3074026-8bab-49c3-a435-90be234c2e7c"
      },
      "source": [
        "df.shape"
      ],
      "execution_count": null,
      "outputs": [
        {
          "output_type": "execute_result",
          "data": {
            "text/plain": [
              "(253, 6)"
            ]
          },
          "metadata": {
            "tags": []
          },
          "execution_count": 6
        }
      ]
    },
    {
      "cell_type": "code",
      "metadata": {
        "colab": {
          "base_uri": "https://localhost:8080/"
        },
        "id": "_CRaM-96zm2-",
        "outputId": "68695700-07d9-41ff-d657-8ac3a9b94a1e"
      },
      "source": [
        "df.dtypes"
      ],
      "execution_count": null,
      "outputs": [
        {
          "output_type": "execute_result",
          "data": {
            "text/plain": [
              "Date       object\n",
              "Open      float64\n",
              "High      float64\n",
              "Low       float64\n",
              "Close     float64\n",
              "Volume     object\n",
              "dtype: object"
            ]
          },
          "metadata": {
            "tags": []
          },
          "execution_count": 7
        }
      ]
    },
    {
      "cell_type": "code",
      "metadata": {
        "id": "I4GKYrjJrt8x",
        "colab": {
          "base_uri": "https://localhost:8080/"
        },
        "outputId": "9839d2bc-30d4-4e0d-b3f7-1b12d08f1952"
      },
      "source": [
        "# Change datatype of Date from object to datetime as Gym only supports that\n",
        "df['Date'] = pd.to_datetime(df['Date'])\n",
        "df.dtypes"
      ],
      "execution_count": null,
      "outputs": [
        {
          "output_type": "execute_result",
          "data": {
            "text/plain": [
              "Date      datetime64[ns]\n",
              "Open             float64\n",
              "High             float64\n",
              "Low              float64\n",
              "Close            float64\n",
              "Volume            object\n",
              "dtype: object"
            ]
          },
          "metadata": {
            "tags": []
          },
          "execution_count": 8
        }
      ]
    },
    {
      "cell_type": "code",
      "metadata": {
        "colab": {
          "base_uri": "https://localhost:8080/",
          "height": 198
        },
        "id": "tXwEtYaQ-bax",
        "outputId": "e982b32a-9241-422f-fece-30c0b45a8a4e"
      },
      "source": [
        "df.sort_values('Date', ascending=True, inplace=True)\n",
        "df.head()"
      ],
      "execution_count": null,
      "outputs": [
        {
          "output_type": "execute_result",
          "data": {
            "text/html": [
              "<div>\n",
              "<style scoped>\n",
              "    .dataframe tbody tr th:only-of-type {\n",
              "        vertical-align: middle;\n",
              "    }\n",
              "\n",
              "    .dataframe tbody tr th {\n",
              "        vertical-align: top;\n",
              "    }\n",
              "\n",
              "    .dataframe thead th {\n",
              "        text-align: right;\n",
              "    }\n",
              "</style>\n",
              "<table border=\"1\" class=\"dataframe\">\n",
              "  <thead>\n",
              "    <tr style=\"text-align: right;\">\n",
              "      <th></th>\n",
              "      <th>Date</th>\n",
              "      <th>Open</th>\n",
              "      <th>High</th>\n",
              "      <th>Low</th>\n",
              "      <th>Close</th>\n",
              "      <th>Volume</th>\n",
              "    </tr>\n",
              "  </thead>\n",
              "  <tbody>\n",
              "    <tr>\n",
              "      <th>252</th>\n",
              "      <td>2020-05-19</td>\n",
              "      <td>4.58</td>\n",
              "      <td>4.75</td>\n",
              "      <td>4.37</td>\n",
              "      <td>4.44</td>\n",
              "      <td>1,840,732</td>\n",
              "    </tr>\n",
              "    <tr>\n",
              "      <th>251</th>\n",
              "      <td>2020-05-20</td>\n",
              "      <td>4.50</td>\n",
              "      <td>4.69</td>\n",
              "      <td>4.34</td>\n",
              "      <td>4.43</td>\n",
              "      <td>2,543,609</td>\n",
              "    </tr>\n",
              "    <tr>\n",
              "      <th>250</th>\n",
              "      <td>2020-05-21</td>\n",
              "      <td>4.45</td>\n",
              "      <td>4.65</td>\n",
              "      <td>4.40</td>\n",
              "      <td>4.44</td>\n",
              "      <td>1,971,906</td>\n",
              "    </tr>\n",
              "    <tr>\n",
              "      <th>249</th>\n",
              "      <td>2020-05-22</td>\n",
              "      <td>4.46</td>\n",
              "      <td>4.49</td>\n",
              "      <td>4.13</td>\n",
              "      <td>4.18</td>\n",
              "      <td>2,379,851</td>\n",
              "    </tr>\n",
              "    <tr>\n",
              "      <th>248</th>\n",
              "      <td>2020-05-26</td>\n",
              "      <td>4.34</td>\n",
              "      <td>4.61</td>\n",
              "      <td>4.33</td>\n",
              "      <td>4.42</td>\n",
              "      <td>3,545,926</td>\n",
              "    </tr>\n",
              "  </tbody>\n",
              "</table>\n",
              "</div>"
            ],
            "text/plain": [
              "          Date  Open  High   Low  Close     Volume\n",
              "252 2020-05-19  4.58  4.75  4.37   4.44  1,840,732\n",
              "251 2020-05-20  4.50  4.69  4.34   4.43  2,543,609\n",
              "250 2020-05-21  4.45  4.65  4.40   4.44  1,971,906\n",
              "249 2020-05-22  4.46  4.49  4.13   4.18  2,379,851\n",
              "248 2020-05-26  4.34  4.61  4.33   4.42  3,545,926"
            ]
          },
          "metadata": {
            "tags": []
          },
          "execution_count": 9
        }
      ]
    },
    {
      "cell_type": "code",
      "metadata": {
        "id": "z29x0Wa1rt8x",
        "colab": {
          "base_uri": "https://localhost:8080/",
          "height": 228
        },
        "outputId": "f60fad36-061e-41fa-a385-30c296d1060f"
      },
      "source": [
        "df.set_index('Date', inplace=True)\n",
        "df.head()"
      ],
      "execution_count": null,
      "outputs": [
        {
          "output_type": "execute_result",
          "data": {
            "text/html": [
              "<div>\n",
              "<style scoped>\n",
              "    .dataframe tbody tr th:only-of-type {\n",
              "        vertical-align: middle;\n",
              "    }\n",
              "\n",
              "    .dataframe tbody tr th {\n",
              "        vertical-align: top;\n",
              "    }\n",
              "\n",
              "    .dataframe thead th {\n",
              "        text-align: right;\n",
              "    }\n",
              "</style>\n",
              "<table border=\"1\" class=\"dataframe\">\n",
              "  <thead>\n",
              "    <tr style=\"text-align: right;\">\n",
              "      <th></th>\n",
              "      <th>Open</th>\n",
              "      <th>High</th>\n",
              "      <th>Low</th>\n",
              "      <th>Close</th>\n",
              "      <th>Volume</th>\n",
              "    </tr>\n",
              "    <tr>\n",
              "      <th>Date</th>\n",
              "      <th></th>\n",
              "      <th></th>\n",
              "      <th></th>\n",
              "      <th></th>\n",
              "      <th></th>\n",
              "    </tr>\n",
              "  </thead>\n",
              "  <tbody>\n",
              "    <tr>\n",
              "      <th>2020-05-19</th>\n",
              "      <td>4.58</td>\n",
              "      <td>4.75</td>\n",
              "      <td>4.37</td>\n",
              "      <td>4.44</td>\n",
              "      <td>1,840,732</td>\n",
              "    </tr>\n",
              "    <tr>\n",
              "      <th>2020-05-20</th>\n",
              "      <td>4.50</td>\n",
              "      <td>4.69</td>\n",
              "      <td>4.34</td>\n",
              "      <td>4.43</td>\n",
              "      <td>2,543,609</td>\n",
              "    </tr>\n",
              "    <tr>\n",
              "      <th>2020-05-21</th>\n",
              "      <td>4.45</td>\n",
              "      <td>4.65</td>\n",
              "      <td>4.40</td>\n",
              "      <td>4.44</td>\n",
              "      <td>1,971,906</td>\n",
              "    </tr>\n",
              "    <tr>\n",
              "      <th>2020-05-22</th>\n",
              "      <td>4.46</td>\n",
              "      <td>4.49</td>\n",
              "      <td>4.13</td>\n",
              "      <td>4.18</td>\n",
              "      <td>2,379,851</td>\n",
              "    </tr>\n",
              "    <tr>\n",
              "      <th>2020-05-26</th>\n",
              "      <td>4.34</td>\n",
              "      <td>4.61</td>\n",
              "      <td>4.33</td>\n",
              "      <td>4.42</td>\n",
              "      <td>3,545,926</td>\n",
              "    </tr>\n",
              "  </tbody>\n",
              "</table>\n",
              "</div>"
            ],
            "text/plain": [
              "            Open  High   Low  Close     Volume\n",
              "Date                                          \n",
              "2020-05-19  4.58  4.75  4.37   4.44  1,840,732\n",
              "2020-05-20  4.50  4.69  4.34   4.43  2,543,609\n",
              "2020-05-21  4.45  4.65  4.40   4.44  1,971,906\n",
              "2020-05-22  4.46  4.49  4.13   4.18  2,379,851\n",
              "2020-05-26  4.34  4.61  4.33   4.42  3,545,926"
            ]
          },
          "metadata": {
            "tags": []
          },
          "execution_count": 10
        }
      ]
    },
    {
      "cell_type": "code",
      "metadata": {
        "id": "R8NRZOHBrt8y"
      },
      "source": [
        "env = gym.make('stocks-v0', df=df, frame_bound=(5,100), window_size=5)\n",
        "\n",
        "# frame 0 - day 0 - day 4\n",
        "# frame 1 - day 5 - day 9"
      ],
      "execution_count": null,
      "outputs": []
    },
    {
      "cell_type": "code",
      "metadata": {
        "colab": {
          "base_uri": "https://localhost:8080/"
        },
        "id": "QfBYXqaC1jxa",
        "outputId": "1517a38b-06bb-4fd7-f2cd-a126dc875434"
      },
      "source": [
        "print(\"Env information:\")\n",
        "\n",
        "print(\"> shape:\", env.shape)\n",
        "\n",
        "print(\"> df.shape:\", env.df.shape)\n",
        "\n",
        "print(\"> action [Buy | Sell]:\", env.action_space)\n",
        "\n",
        "print(\"> prices.shape:\", env.prices.shape)\n",
        "\n",
        "print(\"> signal_features.shape:\", env.signal_features.shape)\n",
        "\n",
        "print(\"> max_possible_profit:\", env.max_possible_profit())\n"
      ],
      "execution_count": null,
      "outputs": [
        {
          "output_type": "stream",
          "text": [
            "Env information:\n",
            "> shape: (5, 2)\n",
            "> df.shape: (253, 5)\n",
            "> action [Buy | Sell]: Discrete(2)\n",
            "> prices.shape: (100,)\n",
            "> signal_features.shape: (100, 2)\n",
            "> max_possible_profit: 16.23524818624662\n"
          ],
          "name": "stdout"
        }
      ]
    },
    {
      "cell_type": "code",
      "metadata": {
        "colab": {
          "base_uri": "https://localhost:8080/"
        },
        "id": "PhfagUhFOV9M",
        "outputId": "8613f361-0124-4900-fdba-9e56304d288a"
      },
      "source": [
        "env.prices"
      ],
      "execution_count": null,
      "outputs": [
        {
          "output_type": "execute_result",
          "data": {
            "text/plain": [
              "array([ 4.44,  4.43,  4.44,  4.18,  4.42,  4.69,  4.33,  4.06,  4.13,\n",
              "        4.18,  4.44,  4.47,  4.14,  5.01,  4.96,  5.07,  4.37,  4.72,\n",
              "        4.69,  4.64,  4.76,  4.95,  4.88,  4.87,  4.83,  4.41,  4.46,\n",
              "        4.35,  4.38,  4.34,  4.44,  4.29,  4.24,  4.09,  4.26,  4.21,\n",
              "        4.34,  4.26,  4.08,  4.19,  4.17,  3.96,  3.85,  4.01,  4.11,\n",
              "        4.11,  4.03,  4.01,  3.94,  4.06,  4.1 ,  4.01,  4.15,  4.43,\n",
              "        4.63,  4.43,  4.16,  4.33,  4.35,  4.52,  4.64,  4.75,  4.63,\n",
              "        4.81,  4.72,  4.61,  5.03,  4.87,  4.98,  5.11,  5.25,  5.39,\n",
              "        6.68,  7.65,  7.71,  7.82,  7.65,  7.7 ,  7.35,  6.23,  6.09,\n",
              "        6.91,  7.09,  8.68,  9.2 ,  9.47,  8.75, 10.56, 10.04,  9.14,\n",
              "       10.02, 10.09, 10.35, 10.2 ,  9.77,  9.39,  9.46,  9.13,  9.36,\n",
              "       13.49])"
            ]
          },
          "metadata": {
            "tags": []
          },
          "execution_count": 13
        }
      ]
    },
    {
      "cell_type": "markdown",
      "metadata": {
        "id": "mto27159rt8z"
      },
      "source": [
        "# 2. Build Environment"
      ]
    },
    {
      "cell_type": "code",
      "metadata": {
        "id": "Qwu-avPrrt8z",
        "colab": {
          "base_uri": "https://localhost:8080/"
        },
        "outputId": "8ccbe1bf-3d47-49ed-939e-907d3564365a"
      },
      "source": [
        "env.action_space"
      ],
      "execution_count": null,
      "outputs": [
        {
          "output_type": "execute_result",
          "data": {
            "text/plain": [
              "Discrete(2)"
            ]
          },
          "metadata": {
            "tags": []
          },
          "execution_count": 43
        }
      ]
    },
    {
      "cell_type": "code",
      "metadata": {
        "id": "weEt3p1Frt80",
        "colab": {
          "base_uri": "https://localhost:8080/",
          "height": 411
        },
        "outputId": "11a7b890-b71c-402c-e899-98331bf788d0"
      },
      "source": [
        "state = env.reset()\n",
        "while True:\n",
        "\n",
        "    action = env.action_space.sample() # dummy\n",
        "    n_state, reward, done, info = env.step(action)\n",
        "    if done:\n",
        "        print(\"info\", info)\n",
        "        break\n",
        "\n",
        "plt.figure(figsize=(15,6))\n",
        "plt.cla()\n",
        "\n",
        "env.render_all() # Trades\n",
        "plt.show()"
      ],
      "execution_count": null,
      "outputs": [
        {
          "output_type": "stream",
          "text": [
            "info {'total_reward': 1.6200000000000014, 'total_profit': 0.9167474057883165, 'position': 1}\n"
          ],
          "name": "stdout"
        },
        {
          "output_type": "display_data",
          "data": {
            "image/png": "[encoded data removed]",
            "text/plain": [
              "<Figure size 1080x432 with 1 Axes>"
            ]
          },
          "metadata": {
            "tags": [],
            "needs_background": "light"
          }
        }
      ]
    },
    {
      "cell_type": "markdown",
      "metadata": {
        "id": "zBtJWV9w9y3Q"
      },
      "source": [
        "# 2.1 Add Custom Indicators"
      ]
    },
    {
      "cell_type": "markdown",
      "metadata": {
        "id": "aEG_44j49y3R"
      },
      "source": [
        "## 2.1.1. Install and Import New Dependencies"
      ]
    },
    {
      "cell_type": "code",
      "metadata": {
        "collapsed": true,
        "id": "psJNw3wB9y3R",
        "colab": {
          "base_uri": "https://localhost:8080/"
        },
        "outputId": "59f03a82-9811-49b0-9fd0-6823d96d4b7c"
      },
      "source": [
        "!pip install finta"
      ],
      "execution_count": null,
      "outputs": [
        {
          "output_type": "stream",
          "text": [
            "Collecting finta\n",
            "  Downloading https://files.pythonhosted.org/packages/06/8b/94331e5e8f4e6ba2690658d4a65db0a254a89117756337316ce8f6b2026b/finta-1.3-py3-none-any.whl\n",
            "Requirement already satisfied: numpy in /usr/local/lib/python3.7/dist-packages (from finta) (1.19.5)\n",
            "Requirement already satisfied: pandas in /usr/local/lib/python3.7/dist-packages (from finta) (1.1.5)\n",
            "Requirement already satisfied: pytz>=2017.2 in /usr/local/lib/python3.7/dist-packages (from pandas->finta) (2018.9)\n",
            "Requirement already satisfied: python-dateutil>=2.7.3 in /usr/local/lib/python3.7/dist-packages (from pandas->finta) (2.8.1)\n",
            "Requirement already satisfied: six>=1.5 in /usr/local/lib/python3.7/dist-packages (from python-dateutil>=2.7.3->pandas->finta) (1.15.0)\n",
            "Installing collected packages: finta\n",
            "Successfully installed finta-1.3\n"
          ],
          "name": "stdout"
        }
      ]
    },
    {
      "cell_type": "code",
      "metadata": {
        "id": "Bq9y960r9y3S"
      },
      "source": [
        "from gym_anytrading.envs import StocksEnv\n",
        "from finta import TA"
      ],
      "execution_count": null,
      "outputs": []
    },
    {
      "cell_type": "markdown",
      "metadata": {
        "id": "QDu9Ehzo9y3S"
      },
      "source": [
        "## 2.1.2. Fix Volume Column"
      ]
    },
    {
      "cell_type": "code",
      "metadata": {
        "id": "z9GrrhKk9y3S"
      },
      "source": [
        "df['Volume'] = df['Volume'].apply(lambda x: float(x.replace(\",\", \"\")))"
      ],
      "execution_count": null,
      "outputs": []
    },
    {
      "cell_type": "code",
      "metadata": {
        "id": "sjeV05PF9y3T",
        "colab": {
          "base_uri": "https://localhost:8080/"
        },
        "outputId": "22dd36b1-ae94-422f-b67f-e52da9715f9e"
      },
      "source": [
        "df.dtypes"
      ],
      "execution_count": null,
      "outputs": [
        {
          "output_type": "execute_result",
          "data": {
            "text/plain": [
              "Open      float64\n",
              "High      float64\n",
              "Low       float64\n",
              "Close     float64\n",
              "Volume    float64\n",
              "dtype: object"
            ]
          },
          "metadata": {
            "tags": []
          },
          "execution_count": 24
        }
      ]
    },
    {
      "cell_type": "markdown",
      "metadata": {
        "id": "JbOr84tB9y3T"
      },
      "source": [
        "## 2.1.3. Calculate SMA, RSI and OBV"
      ]
    },
    {
      "cell_type": "code",
      "metadata": {
        "id": "svCmP0Ue9y3U",
        "colab": {
          "base_uri": "https://localhost:8080/",
          "height": 437
        },
        "outputId": "9ea855ba-fafa-4b1b-dba4-3ccd18d2c232"
      },
      "source": [
        "df['SMA'] = TA.SMA(df, 12)\n",
        "df['RSI'] = TA.RSI(df)\n",
        "df['OBV'] = TA.OBV(df)\n",
        "df"
      ],
      "execution_count": null,
      "outputs": [
        {
          "output_type": "execute_result",
          "data": {
            "text/html": [
              "<div>\n",
              "<style scoped>\n",
              "    .dataframe tbody tr th:only-of-type {\n",
              "        vertical-align: middle;\n",
              "    }\n",
              "\n",
              "    .dataframe tbody tr th {\n",
              "        vertical-align: top;\n",
              "    }\n",
              "\n",
              "    .dataframe thead th {\n",
              "        text-align: right;\n",
              "    }\n",
              "</style>\n",
              "<table border=\"1\" class=\"dataframe\">\n",
              "  <thead>\n",
              "    <tr style=\"text-align: right;\">\n",
              "      <th></th>\n",
              "      <th>Open</th>\n",
              "      <th>High</th>\n",
              "      <th>Low</th>\n",
              "      <th>Close</th>\n",
              "      <th>Volume</th>\n",
              "      <th>SMA</th>\n",
              "      <th>RSI</th>\n",
              "      <th>OBV</th>\n",
              "    </tr>\n",
              "    <tr>\n",
              "      <th>Date</th>\n",
              "      <th></th>\n",
              "      <th></th>\n",
              "      <th></th>\n",
              "      <th></th>\n",
              "      <th></th>\n",
              "      <th></th>\n",
              "      <th></th>\n",
              "      <th></th>\n",
              "    </tr>\n",
              "  </thead>\n",
              "  <tbody>\n",
              "    <tr>\n",
              "      <th>2020-05-19</th>\n",
              "      <td>4.58</td>\n",
              "      <td>4.75</td>\n",
              "      <td>4.37</td>\n",
              "      <td>4.44</td>\n",
              "      <td>1840732.0</td>\n",
              "      <td>NaN</td>\n",
              "      <td>NaN</td>\n",
              "      <td>NaN</td>\n",
              "    </tr>\n",
              "    <tr>\n",
              "      <th>2020-05-20</th>\n",
              "      <td>4.50</td>\n",
              "      <td>4.69</td>\n",
              "      <td>4.34</td>\n",
              "      <td>4.43</td>\n",
              "      <td>2543609.0</td>\n",
              "      <td>NaN</td>\n",
              "      <td>0.000000</td>\n",
              "      <td>-2.543609e+06</td>\n",
              "    </tr>\n",
              "    <tr>\n",
              "      <th>2020-05-21</th>\n",
              "      <td>4.45</td>\n",
              "      <td>4.65</td>\n",
              "      <td>4.40</td>\n",
              "      <td>4.44</td>\n",
              "      <td>1971906.0</td>\n",
              "      <td>NaN</td>\n",
              "      <td>51.851852</td>\n",
              "      <td>-5.717030e+05</td>\n",
              "    </tr>\n",
              "    <tr>\n",
              "      <th>2020-05-22</th>\n",
              "      <td>4.46</td>\n",
              "      <td>4.49</td>\n",
              "      <td>4.13</td>\n",
              "      <td>4.18</td>\n",
              "      <td>2379851.0</td>\n",
              "      <td>NaN</td>\n",
              "      <td>3.341289</td>\n",
              "      <td>-2.951554e+06</td>\n",
              "    </tr>\n",
              "    <tr>\n",
              "      <th>2020-05-26</th>\n",
              "      <td>4.34</td>\n",
              "      <td>4.61</td>\n",
              "      <td>4.33</td>\n",
              "      <td>4.42</td>\n",
              "      <td>3545926.0</td>\n",
              "      <td>NaN</td>\n",
              "      <td>49.918415</td>\n",
              "      <td>5.943720e+05</td>\n",
              "    </tr>\n",
              "    <tr>\n",
              "      <th>...</th>\n",
              "      <td>...</td>\n",
              "      <td>...</td>\n",
              "      <td>...</td>\n",
              "      <td>...</td>\n",
              "      <td>...</td>\n",
              "      <td>...</td>\n",
              "      <td>...</td>\n",
              "      <td>...</td>\n",
              "    </tr>\n",
              "    <tr>\n",
              "      <th>2021-05-13</th>\n",
              "      <td>147.44</td>\n",
              "      <td>169.95</td>\n",
              "      <td>146.43</td>\n",
              "      <td>164.50</td>\n",
              "      <td>8873487.0</td>\n",
              "      <td>161.026667</td>\n",
              "      <td>51.598624</td>\n",
              "      <td>1.406266e+09</td>\n",
              "    </tr>\n",
              "    <tr>\n",
              "      <th>2021-05-14</th>\n",
              "      <td>160.00</td>\n",
              "      <td>166.47</td>\n",
              "      <td>156.22</td>\n",
              "      <td>159.92</td>\n",
              "      <td>4293530.0</td>\n",
              "      <td>159.471667</td>\n",
              "      <td>49.426391</td>\n",
              "      <td>1.401973e+09</td>\n",
              "    </tr>\n",
              "    <tr>\n",
              "      <th>2021-05-17</th>\n",
              "      <td>159.85</td>\n",
              "      <td>182.50</td>\n",
              "      <td>159.00</td>\n",
              "      <td>180.60</td>\n",
              "      <td>7372763.0</td>\n",
              "      <td>159.839167</td>\n",
              "      <td>58.020080</td>\n",
              "      <td>1.409345e+09</td>\n",
              "    </tr>\n",
              "    <tr>\n",
              "      <th>2021-05-18</th>\n",
              "      <td>174.54</td>\n",
              "      <td>189.20</td>\n",
              "      <td>168.27</td>\n",
              "      <td>180.67</td>\n",
              "      <td>7738717.0</td>\n",
              "      <td>160.429167</td>\n",
              "      <td>58.046067</td>\n",
              "      <td>1.417084e+09</td>\n",
              "    </tr>\n",
              "    <tr>\n",
              "      <th>2021-05-19</th>\n",
              "      <td>171.99</td>\n",
              "      <td>178.98</td>\n",
              "      <td>164.15</td>\n",
              "      <td>168.83</td>\n",
              "      <td>4825905.0</td>\n",
              "      <td>160.981667</td>\n",
              "      <td>52.164022</td>\n",
              "      <td>1.412258e+09</td>\n",
              "    </tr>\n",
              "  </tbody>\n",
              "</table>\n",
              "<p>253 rows × 8 columns</p>\n",
              "</div>"
            ],
            "text/plain": [
              "              Open    High     Low  ...         SMA        RSI           OBV\n",
              "Date                                ...                                     \n",
              "2020-05-19    4.58    4.75    4.37  ...         NaN        NaN           NaN\n",
              "2020-05-20    4.50    4.69    4.34  ...         NaN   0.000000 -2.543609e+06\n",
              "2020-05-21    4.45    4.65    4.40  ...         NaN  51.851852 -5.717030e+05\n",
              "2020-05-22    4.46    4.49    4.13  ...         NaN   3.341289 -2.951554e+06\n",
              "2020-05-26    4.34    4.61    4.33  ...         NaN  49.918415  5.943720e+05\n",
              "...            ...     ...     ...  ...         ...        ...           ...\n",
              "2021-05-13  147.44  169.95  146.43  ...  161.026667  51.598624  1.406266e+09\n",
              "2021-05-14  160.00  166.47  156.22  ...  159.471667  49.426391  1.401973e+09\n",
              "2021-05-17  159.85  182.50  159.00  ...  159.839167  58.020080  1.409345e+09\n",
              "2021-05-18  174.54  189.20  168.27  ...  160.429167  58.046067  1.417084e+09\n",
              "2021-05-19  171.99  178.98  164.15  ...  160.981667  52.164022  1.412258e+09\n",
              "\n",
              "[253 rows x 8 columns]"
            ]
          },
          "metadata": {
            "tags": []
          },
          "execution_count": 28
        }
      ]
    },
    {
      "cell_type": "code",
      "metadata": {
        "id": "yaGE9ywwBuve"
      },
      "source": [
        "df.fillna(0, inplace=True)"
      ],
      "execution_count": null,
      "outputs": []
    },
    {
      "cell_type": "code",
      "metadata": {
        "id": "Qab2cYuR9y3U",
        "colab": {
          "base_uri": "https://localhost:8080/",
          "height": 528
        },
        "outputId": "6100869c-7b43-4032-d753-538767387f4d"
      },
      "source": [
        "df.head(15)"
      ],
      "execution_count": null,
      "outputs": [
        {
          "output_type": "execute_result",
          "data": {
            "text/html": [
              "<div>\n",
              "<style scoped>\n",
              "    .dataframe tbody tr th:only-of-type {\n",
              "        vertical-align: middle;\n",
              "    }\n",
              "\n",
              "    .dataframe tbody tr th {\n",
              "        vertical-align: top;\n",
              "    }\n",
              "\n",
              "    .dataframe thead th {\n",
              "        text-align: right;\n",
              "    }\n",
              "</style>\n",
              "<table border=\"1\" class=\"dataframe\">\n",
              "  <thead>\n",
              "    <tr style=\"text-align: right;\">\n",
              "      <th></th>\n",
              "      <th>Open</th>\n",
              "      <th>High</th>\n",
              "      <th>Low</th>\n",
              "      <th>Close</th>\n",
              "      <th>Volume</th>\n",
              "      <th>SMA</th>\n",
              "      <th>RSI</th>\n",
              "      <th>OBV</th>\n",
              "    </tr>\n",
              "    <tr>\n",
              "      <th>Date</th>\n",
              "      <th></th>\n",
              "      <th></th>\n",
              "      <th></th>\n",
              "      <th></th>\n",
              "      <th></th>\n",
              "      <th></th>\n",
              "      <th></th>\n",
              "      <th></th>\n",
              "    </tr>\n",
              "  </thead>\n",
              "  <tbody>\n",
              "    <tr>\n",
              "      <th>2020-05-19</th>\n",
              "      <td>4.58</td>\n",
              "      <td>4.75</td>\n",
              "      <td>4.37</td>\n",
              "      <td>4.44</td>\n",
              "      <td>1840732.0</td>\n",
              "      <td>0.000000</td>\n",
              "      <td>0.000000</td>\n",
              "      <td>0.0</td>\n",
              "    </tr>\n",
              "    <tr>\n",
              "      <th>2020-05-20</th>\n",
              "      <td>4.50</td>\n",
              "      <td>4.69</td>\n",
              "      <td>4.34</td>\n",
              "      <td>4.43</td>\n",
              "      <td>2543609.0</td>\n",
              "      <td>0.000000</td>\n",
              "      <td>0.000000</td>\n",
              "      <td>-2543609.0</td>\n",
              "    </tr>\n",
              "    <tr>\n",
              "      <th>2020-05-21</th>\n",
              "      <td>4.45</td>\n",
              "      <td>4.65</td>\n",
              "      <td>4.40</td>\n",
              "      <td>4.44</td>\n",
              "      <td>1971906.0</td>\n",
              "      <td>0.000000</td>\n",
              "      <td>51.851852</td>\n",
              "      <td>-571703.0</td>\n",
              "    </tr>\n",
              "    <tr>\n",
              "      <th>2020-05-22</th>\n",
              "      <td>4.46</td>\n",
              "      <td>4.49</td>\n",
              "      <td>4.13</td>\n",
              "      <td>4.18</td>\n",
              "      <td>2379851.0</td>\n",
              "      <td>0.000000</td>\n",
              "      <td>3.341289</td>\n",
              "      <td>-2951554.0</td>\n",
              "    </tr>\n",
              "    <tr>\n",
              "      <th>2020-05-26</th>\n",
              "      <td>4.34</td>\n",
              "      <td>4.61</td>\n",
              "      <td>4.33</td>\n",
              "      <td>4.42</td>\n",
              "      <td>3545926.0</td>\n",
              "      <td>0.000000</td>\n",
              "      <td>49.918415</td>\n",
              "      <td>594372.0</td>\n",
              "    </tr>\n",
              "    <tr>\n",
              "      <th>2020-05-27</th>\n",
              "      <td>4.57</td>\n",
              "      <td>4.71</td>\n",
              "      <td>4.36</td>\n",
              "      <td>4.69</td>\n",
              "      <td>3146603.0</td>\n",
              "      <td>0.000000</td>\n",
              "      <td>68.378974</td>\n",
              "      <td>3740975.0</td>\n",
              "    </tr>\n",
              "    <tr>\n",
              "      <th>2020-05-28</th>\n",
              "      <td>4.75</td>\n",
              "      <td>4.76</td>\n",
              "      <td>4.30</td>\n",
              "      <td>4.33</td>\n",
              "      <td>2184367.0</td>\n",
              "      <td>0.000000</td>\n",
              "      <td>44.713013</td>\n",
              "      <td>1556608.0</td>\n",
              "    </tr>\n",
              "    <tr>\n",
              "      <th>2020-05-29</th>\n",
              "      <td>4.33</td>\n",
              "      <td>4.42</td>\n",
              "      <td>4.05</td>\n",
              "      <td>4.06</td>\n",
              "      <td>3973540.0</td>\n",
              "      <td>0.000000</td>\n",
              "      <td>34.944537</td>\n",
              "      <td>-2416932.0</td>\n",
              "    </tr>\n",
              "    <tr>\n",
              "      <th>2020-06-01</th>\n",
              "      <td>4.12</td>\n",
              "      <td>4.36</td>\n",
              "      <td>4.02</td>\n",
              "      <td>4.13</td>\n",
              "      <td>2618424.0</td>\n",
              "      <td>0.000000</td>\n",
              "      <td>38.684620</td>\n",
              "      <td>201492.0</td>\n",
              "    </tr>\n",
              "    <tr>\n",
              "      <th>2020-06-02</th>\n",
              "      <td>4.27</td>\n",
              "      <td>4.31</td>\n",
              "      <td>4.06</td>\n",
              "      <td>4.18</td>\n",
              "      <td>2369780.0</td>\n",
              "      <td>0.000000</td>\n",
              "      <td>41.281370</td>\n",
              "      <td>2571272.0</td>\n",
              "    </tr>\n",
              "    <tr>\n",
              "      <th>2020-06-03</th>\n",
              "      <td>4.24</td>\n",
              "      <td>4.52</td>\n",
              "      <td>4.20</td>\n",
              "      <td>4.44</td>\n",
              "      <td>3037424.0</td>\n",
              "      <td>0.000000</td>\n",
              "      <td>52.537713</td>\n",
              "      <td>5608696.0</td>\n",
              "    </tr>\n",
              "    <tr>\n",
              "      <th>2020-06-04</th>\n",
              "      <td>4.44</td>\n",
              "      <td>4.72</td>\n",
              "      <td>4.37</td>\n",
              "      <td>4.47</td>\n",
              "      <td>3514299.0</td>\n",
              "      <td>4.350833</td>\n",
              "      <td>53.641991</td>\n",
              "      <td>9122995.0</td>\n",
              "    </tr>\n",
              "    <tr>\n",
              "      <th>2020-06-05</th>\n",
              "      <td>4.29</td>\n",
              "      <td>4.41</td>\n",
              "      <td>4.09</td>\n",
              "      <td>4.14</td>\n",
              "      <td>6274428.0</td>\n",
              "      <td>4.325833</td>\n",
              "      <td>42.051770</td>\n",
              "      <td>2848567.0</td>\n",
              "    </tr>\n",
              "    <tr>\n",
              "      <th>2020-06-08</th>\n",
              "      <td>4.28</td>\n",
              "      <td>5.14</td>\n",
              "      <td>4.27</td>\n",
              "      <td>5.01</td>\n",
              "      <td>10133660.0</td>\n",
              "      <td>4.374167</td>\n",
              "      <td>64.084200</td>\n",
              "      <td>12982227.0</td>\n",
              "    </tr>\n",
              "    <tr>\n",
              "      <th>2020-06-09</th>\n",
              "      <td>5.00</td>\n",
              "      <td>5.00</td>\n",
              "      <td>4.55</td>\n",
              "      <td>4.96</td>\n",
              "      <td>8073448.0</td>\n",
              "      <td>4.417500</td>\n",
              "      <td>62.610845</td>\n",
              "      <td>4908779.0</td>\n",
              "    </tr>\n",
              "  </tbody>\n",
              "</table>\n",
              "</div>"
            ],
            "text/plain": [
              "            Open  High   Low  ...       SMA        RSI         OBV\n",
              "Date                          ...                                 \n",
              "2020-05-19  4.58  4.75  4.37  ...  0.000000   0.000000         0.0\n",
              "2020-05-20  4.50  4.69  4.34  ...  0.000000   0.000000  -2543609.0\n",
              "2020-05-21  4.45  4.65  4.40  ...  0.000000  51.851852   -571703.0\n",
              "2020-05-22  4.46  4.49  4.13  ...  0.000000   3.341289  -2951554.0\n",
              "2020-05-26  4.34  4.61  4.33  ...  0.000000  49.918415    594372.0\n",
              "2020-05-27  4.57  4.71  4.36  ...  0.000000  68.378974   3740975.0\n",
              "2020-05-28  4.75  4.76  4.30  ...  0.000000  44.713013   1556608.0\n",
              "2020-05-29  4.33  4.42  4.05  ...  0.000000  34.944537  -2416932.0\n",
              "2020-06-01  4.12  4.36  4.02  ...  0.000000  38.684620    201492.0\n",
              "2020-06-02  4.27  4.31  4.06  ...  0.000000  41.281370   2571272.0\n",
              "2020-06-03  4.24  4.52  4.20  ...  0.000000  52.537713   5608696.0\n",
              "2020-06-04  4.44  4.72  4.37  ...  4.350833  53.641991   9122995.0\n",
              "2020-06-05  4.29  4.41  4.09  ...  4.325833  42.051770   2848567.0\n",
              "2020-06-08  4.28  5.14  4.27  ...  4.374167  64.084200  12982227.0\n",
              "2020-06-09  5.00  5.00  4.55  ...  4.417500  62.610845   4908779.0\n",
              "\n",
              "[15 rows x 8 columns]"
            ]
          },
          "metadata": {
            "tags": []
          },
          "execution_count": 32
        }
      ]
    },
    {
      "cell_type": "markdown",
      "metadata": {
        "id": "0EryxOyO9y3V"
      },
      "source": [
        "## 2.1.4. Create New Environments"
      ]
    },
    {
      "cell_type": "code",
      "metadata": {
        "id": "xHzHwrDd9y3V"
      },
      "source": [
        "def add_signals(env):\n",
        "    start = env.frame_bound[0] - env.window_size # starting row of training data\n",
        "    end = env.frame_bound[1] # ending row of training data\n",
        "    prices = env.df.loc[:, 'Low'].to_numpy()[start:end]\n",
        "    signal_features = env.df.loc[:, ['Low', 'Volume','SMA', 'RSI', 'OBV']].to_numpy()[start:end]\n",
        "    return prices, signal_features"
      ],
      "execution_count": null,
      "outputs": []
    },
    {
      "cell_type": "code",
      "metadata": {
        "id": "ek2bpf199y3W"
      },
      "source": [
        "class MyCustomEnv(StocksEnv):\n",
        "    _process_data = add_signals\n",
        "\n",
        "env2 = MyCustomEnv(df=df, window_size=12, frame_bound=(12,50))"
      ],
      "execution_count": null,
      "outputs": []
    },
    {
      "cell_type": "code",
      "metadata": {
        "scrolled": true,
        "id": "DCy0bTiJ9y3W",
        "colab": {
          "base_uri": "https://localhost:8080/"
        },
        "outputId": "f65471c6-ed59-47a3-dbfb-f6d9d0a2bae8"
      },
      "source": [
        "env2.signal_features"
      ],
      "execution_count": null,
      "outputs": [
        {
          "output_type": "execute_result",
          "data": {
            "text/plain": [
              "array([[ 4.37000000e+00,  1.84073200e+06,  0.00000000e+00,\n",
              "         0.00000000e+00,  0.00000000e+00],\n",
              "       [ 4.34000000e+00,  2.54360900e+06,  0.00000000e+00,\n",
              "         0.00000000e+00, -2.54360900e+06],\n",
              "       [ 4.40000000e+00,  1.97190600e+06,  0.00000000e+00,\n",
              "         5.18518519e+01, -5.71703000e+05],\n",
              "       [ 4.13000000e+00,  2.37985100e+06,  0.00000000e+00,\n",
              "         3.34128878e+00, -2.95155400e+06],\n",
              "       [ 4.33000000e+00,  3.54592600e+06,  0.00000000e+00,\n",
              "         4.99184148e+01,  5.94372000e+05],\n",
              "       [ 4.36000000e+00,  3.14660300e+06,  0.00000000e+00,\n",
              "         6.83789740e+01,  3.74097500e+06],\n",
              "       [ 4.30000000e+00,  2.18436700e+06,  0.00000000e+00,\n",
              "         4.47130131e+01,  1.55660800e+06],\n",
              "       [ 4.05000000e+00,  3.97354000e+06,  0.00000000e+00,\n",
              "         3.49445374e+01, -2.41693200e+06],\n",
              "       [ 4.02000000e+00,  2.61842400e+06,  0.00000000e+00,\n",
              "         3.86846204e+01,  2.01492000e+05],\n",
              "       [ 4.06000000e+00,  2.36978000e+06,  0.00000000e+00,\n",
              "         4.12813698e+01,  2.57127200e+06],\n",
              "       [ 4.20000000e+00,  3.03742400e+06,  0.00000000e+00,\n",
              "         5.25377126e+01,  5.60869600e+06],\n",
              "       [ 4.37000000e+00,  3.51429900e+06,  4.35083333e+00,\n",
              "         5.36419915e+01,  9.12299500e+06],\n",
              "       [ 4.09000000e+00,  6.27442800e+06,  4.32583333e+00,\n",
              "         4.20517699e+01,  2.84856700e+06],\n",
              "       [ 4.27000000e+00,  1.01336600e+07,  4.37416667e+00,\n",
              "         6.40841996e+01,  1.29822270e+07],\n",
              "       [ 4.55000000e+00,  8.07344800e+06,  4.41750000e+00,\n",
              "         6.26108452e+01,  4.90877900e+06],\n",
              "       [ 4.68000000e+00,  1.06063700e+07,  4.49166667e+00,\n",
              "         6.45422562e+01,  1.55151490e+07],\n",
              "       [ 4.18000000e+00,  6.23599300e+06,  4.48750000e+00,\n",
              "         4.76673860e+01,  9.27915600e+06],\n",
              "       [ 4.39000000e+00,  4.37819200e+06,  4.49000000e+00,\n",
              "         5.41257167e+01,  1.36573480e+07],\n",
              "       [ 4.42000000e+00,  3.91038500e+06,  4.52000000e+00,\n",
              "         5.35160815e+01,  9.74696300e+06],\n",
              "       [ 4.51000000e+00,  3.12353500e+06,  4.56833333e+00,\n",
              "         5.24556273e+01,  6.62342800e+06],\n",
              "       [ 4.53000000e+00,  3.59346600e+06,  4.62083333e+00,\n",
              "         5.47720125e+01,  1.02168940e+07],\n",
              "       [ 4.65000000e+00,  3.42382700e+06,  4.68500000e+00,\n",
              "         5.82411185e+01,  1.36407210e+07],\n",
              "       [ 4.69000000e+00,  7.36586700e+06,  4.72166667e+00,\n",
              "         5.65210350e+01,  6.27485400e+06],\n",
              "       [ 4.72000000e+00,  3.17896600e+06,  4.75500000e+00,\n",
              "         5.62653838e+01,  3.09588800e+06],\n",
              "       [ 4.80000000e+00,  3.20537200e+06,  4.81250000e+00,\n",
              "         5.51900505e+01, -1.09484000e+05],\n",
              "       [ 4.38000000e+00,  2.97620900e+06,  4.76250000e+00,\n",
              "         4.53824318e+01, -3.08569300e+06],\n",
              "       [ 4.30000000e+00,  2.45093600e+06,  4.72083333e+00,\n",
              "         4.65990578e+01, -6.34757000e+05],\n",
              "       [ 4.27000000e+00,  3.80115500e+06,  4.66083333e+00,\n",
              "         4.42630544e+01, -4.43591200e+06],\n",
              "       [ 4.30000000e+00,  2.13133000e+06,  4.66166667e+00,\n",
              "         4.50717872e+01, -2.30458200e+06],\n",
              "       [ 4.20000000e+00,  3.88902900e+06,  4.63000000e+00,\n",
              "         4.41518997e+01, -6.19361100e+06],\n",
              "       [ 4.31000000e+00,  2.30410100e+06,  4.60916667e+00,\n",
              "         4.70608201e+01, -3.88951000e+06],\n",
              "       [ 4.29000000e+00,  1.88775100e+06,  4.58000000e+00,\n",
              "         4.34084587e+01, -5.77726100e+06],\n",
              "       [ 4.19000000e+00,  2.14087900e+06,  4.53666667e+00,\n",
              "         4.22318876e+01, -7.91814000e+06],\n",
              "       [ 4.06000000e+00,  2.45697000e+06,  4.46500000e+00,\n",
              "         3.88314605e+01, -1.03751100e+07],\n",
              "       [ 4.03000000e+00,  2.05282900e+06,  4.41333333e+00,\n",
              "         4.43048081e+01, -8.32228100e+06],\n",
              "       [ 4.13000000e+00,  1.99262100e+06,  4.35833333e+00,\n",
              "         4.30837285e+01, -1.03149020e+07],\n",
              "       [ 4.18000000e+00,  1.41082800e+06,  4.31750000e+00,\n",
              "         4.71613146e+01, -8.90407400e+06],\n",
              "       [ 4.26000000e+00,  4.21626500e+06,  4.30500000e+00,\n",
              "         4.50236540e+01, -1.31203390e+07],\n",
              "       [ 4.07000000e+00,  2.26158900e+06,  4.27333333e+00,\n",
              "         4.05680722e+01, -1.53819280e+07],\n",
              "       [ 4.13000000e+00,  1.47412600e+06,  4.26000000e+00,\n",
              "         4.42020855e+01, -1.39078020e+07],\n",
              "       [ 4.09000000e+00,  1.33046100e+06,  4.24250000e+00,\n",
              "         4.36791325e+01, -1.52382630e+07],\n",
              "       [ 3.94000000e+00,  3.06654900e+06,  4.21083333e+00,\n",
              "         3.85251990e+01, -1.83048120e+07],\n",
              "       [ 3.77000000e+00,  3.40108800e+06,  4.16166667e+00,\n",
              "         3.61209365e+01, -2.17059000e+07],\n",
              "       [ 3.88000000e+00,  3.34101200e+06,  4.13833333e+00,\n",
              "         4.18094815e+01, -1.83648880e+07],\n",
              "       [ 3.92000000e+00,  2.52354700e+06,  4.12750000e+00,\n",
              "         4.51001098e+01, -1.58413410e+07],\n",
              "       [ 4.06000000e+00,  3.23755000e+06,  4.12916667e+00,\n",
              "         4.51001098e+01,  0.00000000e+00],\n",
              "       [ 4.01000000e+00,  2.21629500e+06,  4.11000000e+00,\n",
              "         4.28518056e+01, -1.80576360e+07],\n",
              "       [ 3.95000000e+00,  2.47269600e+06,  4.09333333e+00,\n",
              "         4.22842856e+01, -2.05303320e+07],\n",
              "       [ 3.92000000e+00,  4.55539200e+06,  4.06000000e+00,\n",
              "         4.02738598e+01, -2.50857240e+07],\n",
              "       [ 3.92000000e+00,  2.87962600e+06,  4.04333333e+00,\n",
              "         4.50933579e+01, -2.22060980e+07]])"
            ]
          },
          "metadata": {
            "tags": []
          },
          "execution_count": 37
        }
      ]
    },
    {
      "cell_type": "code",
      "metadata": {
        "id": "7u7mydmQ9y3X",
        "colab": {
          "base_uri": "https://localhost:8080/",
          "height": 228
        },
        "outputId": "7c18a85b-1258-4071-9705-149732aa9034"
      },
      "source": [
        "df.head()"
      ],
      "execution_count": null,
      "outputs": [
        {
          "output_type": "execute_result",
          "data": {
            "text/html": [
              "<div>\n",
              "<style scoped>\n",
              "    .dataframe tbody tr th:only-of-type {\n",
              "        vertical-align: middle;\n",
              "    }\n",
              "\n",
              "    .dataframe tbody tr th {\n",
              "        vertical-align: top;\n",
              "    }\n",
              "\n",
              "    .dataframe thead th {\n",
              "        text-align: right;\n",
              "    }\n",
              "</style>\n",
              "<table border=\"1\" class=\"dataframe\">\n",
              "  <thead>\n",
              "    <tr style=\"text-align: right;\">\n",
              "      <th></th>\n",
              "      <th>Open</th>\n",
              "      <th>High</th>\n",
              "      <th>Low</th>\n",
              "      <th>Close</th>\n",
              "      <th>Volume</th>\n",
              "      <th>SMA</th>\n",
              "      <th>RSI</th>\n",
              "      <th>OBV</th>\n",
              "    </tr>\n",
              "    <tr>\n",
              "      <th>Date</th>\n",
              "      <th></th>\n",
              "      <th></th>\n",
              "      <th></th>\n",
              "      <th></th>\n",
              "      <th></th>\n",
              "      <th></th>\n",
              "      <th></th>\n",
              "      <th></th>\n",
              "    </tr>\n",
              "  </thead>\n",
              "  <tbody>\n",
              "    <tr>\n",
              "      <th>2020-05-19</th>\n",
              "      <td>4.58</td>\n",
              "      <td>4.75</td>\n",
              "      <td>4.37</td>\n",
              "      <td>4.44</td>\n",
              "      <td>1840732.0</td>\n",
              "      <td>0.0</td>\n",
              "      <td>0.000000</td>\n",
              "      <td>0.0</td>\n",
              "    </tr>\n",
              "    <tr>\n",
              "      <th>2020-05-20</th>\n",
              "      <td>4.50</td>\n",
              "      <td>4.69</td>\n",
              "      <td>4.34</td>\n",
              "      <td>4.43</td>\n",
              "      <td>2543609.0</td>\n",
              "      <td>0.0</td>\n",
              "      <td>0.000000</td>\n",
              "      <td>-2543609.0</td>\n",
              "    </tr>\n",
              "    <tr>\n",
              "      <th>2020-05-21</th>\n",
              "      <td>4.45</td>\n",
              "      <td>4.65</td>\n",
              "      <td>4.40</td>\n",
              "      <td>4.44</td>\n",
              "      <td>1971906.0</td>\n",
              "      <td>0.0</td>\n",
              "      <td>51.851852</td>\n",
              "      <td>-571703.0</td>\n",
              "    </tr>\n",
              "    <tr>\n",
              "      <th>2020-05-22</th>\n",
              "      <td>4.46</td>\n",
              "      <td>4.49</td>\n",
              "      <td>4.13</td>\n",
              "      <td>4.18</td>\n",
              "      <td>2379851.0</td>\n",
              "      <td>0.0</td>\n",
              "      <td>3.341289</td>\n",
              "      <td>-2951554.0</td>\n",
              "    </tr>\n",
              "    <tr>\n",
              "      <th>2020-05-26</th>\n",
              "      <td>4.34</td>\n",
              "      <td>4.61</td>\n",
              "      <td>4.33</td>\n",
              "      <td>4.42</td>\n",
              "      <td>3545926.0</td>\n",
              "      <td>0.0</td>\n",
              "      <td>49.918415</td>\n",
              "      <td>594372.0</td>\n",
              "    </tr>\n",
              "  </tbody>\n",
              "</table>\n",
              "</div>"
            ],
            "text/plain": [
              "            Open  High   Low  Close     Volume  SMA        RSI        OBV\n",
              "Date                                                                     \n",
              "2020-05-19  4.58  4.75  4.37   4.44  1840732.0  0.0   0.000000        0.0\n",
              "2020-05-20  4.50  4.69  4.34   4.43  2543609.0  0.0   0.000000 -2543609.0\n",
              "2020-05-21  4.45  4.65  4.40   4.44  1971906.0  0.0  51.851852  -571703.0\n",
              "2020-05-22  4.46  4.49  4.13   4.18  2379851.0  0.0   3.341289 -2951554.0\n",
              "2020-05-26  4.34  4.61  4.33   4.42  3545926.0  0.0  49.918415   594372.0"
            ]
          },
          "metadata": {
            "tags": []
          },
          "execution_count": 38
        }
      ]
    },
    {
      "cell_type": "markdown",
      "metadata": {
        "id": "6GETtvRSrt80"
      },
      "source": [
        "# 3. Build Environment and Train"
      ]
    },
    {
      "cell_type": "code",
      "metadata": {
        "id": "_KRz3VT6rt81"
      },
      "source": [
        "# Env without Indicators\n",
        "env_maker = lambda: gym.make('stocks-v0', df=df, frame_bound=(5,100), window_size=5) # Python lambda to create multiple environment\n",
        "\n",
        "\n",
        "env = DummyVecEnv([env_maker]) # Stable Baseline Class"
      ],
      "execution_count": null,
      "outputs": []
    },
    {
      "cell_type": "code",
      "metadata": {
        "scrolled": true,
        "id": "vonSRWI9rt81",
        "colab": {
          "base_uri": "https://localhost:8080/"
        },
        "outputId": "eb76e93b-b550-4939-c2d1-b0f7c24ebd66"
      },
      "source": [
        "model = DQN('MlpLstmPolicy', env, verbose=1)  # Environment of model [DQN, A2C]\n",
        "\n",
        "# Multi Layer Perceptron - Neural Network\n",
        "# LSTM - Long Short Term Memory\n",
        "\n",
        "model.learn(total_timesteps=50000)\n",
        "\n",
        "# Higher the expained_variance closer to one, better the model predict actions."
      ],
      "execution_count": null,
      "outputs": [
        {
          "output_type": "stream",
          "text": [
            "---------------------------------\n",
            "| explained_variance | -45.9    |\n",
            "| fps                | 20       |\n",
            "| nupdates           | 1        |\n",
            "| policy_entropy     | 0.693    |\n",
            "| total_timesteps    | 5        |\n",
            "| value_loss         | 0.0817   |\n",
            "---------------------------------\n",
            "---------------------------------\n",
            "| explained_variance | -63.5    |\n",
            "| fps                | 344      |\n",
            "| nupdates           | 100      |\n",
            "| policy_entropy     | 0.693    |\n",
            "| total_timesteps    | 500      |\n",
            "| value_loss         | 0.00146  |\n",
            "---------------------------------\n",
            "---------------------------------\n",
            "| explained_variance | -0.346   |\n",
            "| fps                | 372      |\n",
            "| nupdates           | 200      |\n",
            "| policy_entropy     | 0.692    |\n",
            "| total_timesteps    | 1000     |\n",
            "| value_loss         | 0.00151  |\n",
            "---------------------------------\n",
            "---------------------------------\n",
            "| explained_variance | -1.88    |\n",
            "| fps                | 383      |\n",
            "| nupdates           | 300      |\n",
            "| policy_entropy     | 0.693    |\n",
            "| total_timesteps    | 1500     |\n",
            "| value_loss         | 0.00554  |\n",
            "---------------------------------\n",
            "---------------------------------\n",
            "| explained_variance | -0.722   |\n",
            "| fps                | 388      |\n",
            "| nupdates           | 400      |\n",
            "| policy_entropy     | 0.692    |\n",
            "| total_timesteps    | 2000     |\n",
            "| value_loss         | 0.00328  |\n",
            "---------------------------------\n",
            "---------------------------------\n",
            "| explained_variance | -14.9    |\n",
            "| fps                | 392      |\n",
            "| nupdates           | 500      |\n",
            "| policy_entropy     | 0.693    |\n",
            "| total_timesteps    | 2500     |\n",
            "| value_loss         | 0.00367  |\n",
            "---------------------------------\n",
            "---------------------------------\n",
            "| explained_variance | 0.00232  |\n",
            "| fps                | 394      |\n",
            "| nupdates           | 600      |\n",
            "| policy_entropy     | 0.692    |\n",
            "| total_timesteps    | 3000     |\n",
            "| value_loss         | 0.0176   |\n",
            "---------------------------------\n",
            "---------------------------------\n",
            "| explained_variance | -8.56    |\n",
            "| fps                | 396      |\n",
            "| nupdates           | 700      |\n",
            "| policy_entropy     | 0.693    |\n",
            "| total_timesteps    | 3500     |\n",
            "| value_loss         | 0.00547  |\n",
            "---------------------------------\n",
            "---------------------------------\n",
            "| explained_variance | -0.371   |\n",
            "| fps                | 398      |\n",
            "| nupdates           | 800      |\n",
            "| policy_entropy     | 0.692    |\n",
            "| total_timesteps    | 4000     |\n",
            "| value_loss         | 0.0327   |\n",
            "---------------------------------\n",
            "----------------------------------\n",
            "| explained_variance | -3.02e+03 |\n",
            "| fps                | 399       |\n",
            "| nupdates           | 900       |\n",
            "| policy_entropy     | 0.691     |\n",
            "| total_timesteps    | 4500      |\n",
            "| value_loss         | 0.00302   |\n",
            "----------------------------------\n",
            "---------------------------------\n",
            "| explained_variance | -336     |\n",
            "| fps                | 397      |\n",
            "| nupdates           | 1000     |\n",
            "| policy_entropy     | 0.692    |\n",
            "| total_timesteps    | 5000     |\n",
            "| value_loss         | 0.00109  |\n",
            "---------------------------------\n",
            "---------------------------------\n",
            "| explained_variance | -1.62    |\n",
            "| fps                | 398      |\n",
            "| nupdates           | 1100     |\n",
            "| policy_entropy     | 0.683    |\n",
            "| total_timesteps    | 5500     |\n",
            "| value_loss         | 0.0298   |\n",
            "---------------------------------\n",
            "---------------------------------\n",
            "| explained_variance | -106     |\n",
            "| fps                | 399      |\n",
            "| nupdates           | 1200     |\n",
            "| policy_entropy     | 0.67     |\n",
            "| total_timesteps    | 6000     |\n",
            "| value_loss         | 0.0449   |\n",
            "---------------------------------\n",
            "---------------------------------\n",
            "| explained_variance | 0.273    |\n",
            "| fps                | 400      |\n",
            "| nupdates           | 1300     |\n",
            "| policy_entropy     | 0.686    |\n",
            "| total_timesteps    | 6500     |\n",
            "| value_loss         | 0.00854  |\n",
            "---------------------------------\n",
            "---------------------------------\n",
            "| explained_variance | 0.4      |\n",
            "| fps                | 400      |\n",
            "| nupdates           | 1400     |\n",
            "| policy_entropy     | 0.603    |\n",
            "| total_timesteps    | 7000     |\n",
            "| value_loss         | 0.00781  |\n",
            "---------------------------------\n",
            "---------------------------------\n",
            "| explained_variance | 0.302    |\n",
            "| fps                | 401      |\n",
            "| nupdates           | 1500     |\n",
            "| policy_entropy     | 0.68     |\n",
            "| total_timesteps    | 7500     |\n",
            "| value_loss         | 0.0153   |\n",
            "---------------------------------\n",
            "---------------------------------\n",
            "| explained_variance | 0.654    |\n",
            "| fps                | 401      |\n",
            "| nupdates           | 1600     |\n",
            "| policy_entropy     | 0.664    |\n",
            "| total_timesteps    | 8000     |\n",
            "| value_loss         | 0.000799 |\n",
            "---------------------------------\n",
            "---------------------------------\n",
            "| explained_variance | -0.561   |\n",
            "| fps                | 402      |\n",
            "| nupdates           | 1700     |\n",
            "| policy_entropy     | 0.66     |\n",
            "| total_timesteps    | 8500     |\n",
            "| value_loss         | 0.0182   |\n",
            "---------------------------------\n",
            "----------------------------------\n",
            "| explained_variance | -1.69e+04 |\n",
            "| fps                | 402       |\n",
            "| nupdates           | 1800      |\n",
            "| policy_entropy     | 0.602     |\n",
            "| total_timesteps    | 9000      |\n",
            "| value_loss         | 0.00509   |\n",
            "----------------------------------\n",
            "----------------------------------\n",
            "| explained_variance | -1.21e+03 |\n",
            "| fps                | 403       |\n",
            "| nupdates           | 1900      |\n",
            "| policy_entropy     | 0.672     |\n",
            "| total_timesteps    | 9500      |\n",
            "| value_loss         | 0.0011    |\n",
            "----------------------------------\n",
            "---------------------------------\n",
            "| explained_variance | 0.758    |\n",
            "| fps                | 403      |\n",
            "| nupdates           | 2000     |\n",
            "| policy_entropy     | 0.616    |\n",
            "| total_timesteps    | 10000    |\n",
            "| value_loss         | 0.00335  |\n",
            "---------------------------------\n",
            "---------------------------------\n",
            "| explained_variance | -0.241   |\n",
            "| fps                | 402      |\n",
            "| nupdates           | 2100     |\n",
            "| policy_entropy     | 0.678    |\n",
            "| total_timesteps    | 10500    |\n",
            "| value_loss         | 0.00118  |\n",
            "---------------------------------\n",
            "---------------------------------\n",
            "| explained_variance | 0.96     |\n",
            "| fps                | 402      |\n",
            "| nupdates           | 2200     |\n",
            "| policy_entropy     | 0.638    |\n",
            "| total_timesteps    | 11000    |\n",
            "| value_loss         | 0.00213  |\n",
            "---------------------------------\n",
            "---------------------------------\n",
            "| explained_variance | -0.298   |\n",
            "| fps                | 402      |\n",
            "| nupdates           | 2300     |\n",
            "| policy_entropy     | 0.611    |\n",
            "| total_timesteps    | 11500    |\n",
            "| value_loss         | 0.0054   |\n",
            "---------------------------------\n",
            "---------------------------------\n",
            "| explained_variance | -5.99    |\n",
            "| fps                | 403      |\n",
            "| nupdates           | 2400     |\n",
            "| policy_entropy     | 0.579    |\n",
            "| total_timesteps    | 12000    |\n",
            "| value_loss         | 0.00742  |\n",
            "---------------------------------\n",
            "---------------------------------\n",
            "| explained_variance | -144     |\n",
            "| fps                | 403      |\n",
            "| nupdates           | 2500     |\n",
            "| policy_entropy     | 0.575    |\n",
            "| total_timesteps    | 12500    |\n",
            "| value_loss         | 0.00056  |\n",
            "---------------------------------\n",
            "---------------------------------\n",
            "| explained_variance | 0.131    |\n",
            "| fps                | 403      |\n",
            "| nupdates           | 2600     |\n",
            "| policy_entropy     | 0.542    |\n",
            "| total_timesteps    | 13000    |\n",
            "| value_loss         | 0.0246   |\n",
            "---------------------------------\n",
            "---------------------------------\n",
            "| explained_variance | -587     |\n",
            "| fps                | 403      |\n",
            "| nupdates           | 2700     |\n",
            "| policy_entropy     | 0.547    |\n",
            "| total_timesteps    | 13500    |\n",
            "| value_loss         | 0.000428 |\n",
            "---------------------------------\n",
            "---------------------------------\n",
            "| explained_variance | 0.364    |\n",
            "| fps                | 403      |\n",
            "| nupdates           | 2800     |\n",
            "| policy_entropy     | 0.39     |\n",
            "| total_timesteps    | 14000    |\n",
            "| value_loss         | 0.00338  |\n",
            "---------------------------------\n",
            "---------------------------------\n",
            "| explained_variance | 0.614    |\n",
            "| fps                | 403      |\n",
            "| nupdates           | 2900     |\n",
            "| policy_entropy     | 0.56     |\n",
            "| total_timesteps    | 14500    |\n",
            "| value_loss         | 0.00711  |\n",
            "---------------------------------\n",
            "---------------------------------\n",
            "| explained_variance | -71.9    |\n",
            "| fps                | 404      |\n",
            "| nupdates           | 3000     |\n",
            "| policy_entropy     | 0.33     |\n",
            "| total_timesteps    | 15000    |\n",
            "| value_loss         | 0.000634 |\n",
            "---------------------------------\n",
            "---------------------------------\n",
            "| explained_variance | 0.346    |\n",
            "| fps                | 404      |\n",
            "| nupdates           | 3100     |\n",
            "| policy_entropy     | 0.631    |\n",
            "| total_timesteps    | 15500    |\n",
            "| value_loss         | 0.00406  |\n",
            "---------------------------------\n",
            "---------------------------------\n",
            "| explained_variance | -0.362   |\n",
            "| fps                | 404      |\n",
            "| nupdates           | 3200     |\n",
            "| policy_entropy     | 0.327    |\n",
            "| total_timesteps    | 16000    |\n",
            "| value_loss         | 0.00372  |\n",
            "---------------------------------\n",
            "---------------------------------\n",
            "| explained_variance | 0.493    |\n",
            "| fps                | 404      |\n",
            "| nupdates           | 3300     |\n",
            "| policy_entropy     | 0.568    |\n",
            "| total_timesteps    | 16500    |\n",
            "| value_loss         | 0.0182   |\n",
            "---------------------------------\n",
            "---------------------------------\n",
            "| explained_variance | 0.357    |\n",
            "| fps                | 404      |\n",
            "| nupdates           | 3400     |\n",
            "| policy_entropy     | 0.365    |\n",
            "| total_timesteps    | 17000    |\n",
            "| value_loss         | 0.00309  |\n",
            "---------------------------------\n",
            "---------------------------------\n",
            "| explained_variance | 0.572    |\n",
            "| fps                | 404      |\n",
            "| nupdates           | 3500     |\n",
            "| policy_entropy     | 0.504    |\n",
            "| total_timesteps    | 17500    |\n",
            "| value_loss         | 0.000805 |\n",
            "---------------------------------\n",
            "---------------------------------\n",
            "| explained_variance | -3.54    |\n",
            "| fps                | 404      |\n",
            "| nupdates           | 3600     |\n",
            "| policy_entropy     | 0.251    |\n",
            "| total_timesteps    | 18000    |\n",
            "| value_loss         | 0.00703  |\n",
            "---------------------------------\n",
            "---------------------------------\n",
            "| explained_variance | 0.573    |\n",
            "| fps                | 405      |\n",
            "| nupdates           | 3700     |\n",
            "| policy_entropy     | 0.425    |\n",
            "| total_timesteps    | 18500    |\n",
            "| value_loss         | 0.00368  |\n",
            "---------------------------------\n",
            "---------------------------------\n",
            "| explained_variance | 0.833    |\n",
            "| fps                | 405      |\n",
            "| nupdates           | 3800     |\n",
            "| policy_entropy     | 0.17     |\n",
            "| total_timesteps    | 19000    |\n",
            "| value_loss         | 0.00112  |\n",
            "---------------------------------\n",
            "---------------------------------\n",
            "| explained_variance | 0.966    |\n",
            "| fps                | 405      |\n",
            "| nupdates           | 3900     |\n",
            "| policy_entropy     | 0.372    |\n",
            "| total_timesteps    | 19500    |\n",
            "| value_loss         | 0.0268   |\n",
            "---------------------------------\n",
            "---------------------------------\n",
            "| explained_variance | 0.916    |\n",
            "| fps                | 404      |\n",
            "| nupdates           | 4000     |\n",
            "| policy_entropy     | 0.159    |\n",
            "| total_timesteps    | 20000    |\n",
            "| value_loss         | 0.00102  |\n",
            "---------------------------------\n",
            "---------------------------------\n",
            "| explained_variance | 0.993    |\n",
            "| fps                | 404      |\n",
            "| nupdates           | 4100     |\n",
            "| policy_entropy     | 0.39     |\n",
            "| total_timesteps    | 20500    |\n",
            "| value_loss         | 0.00536  |\n",
            "---------------------------------\n",
            "---------------------------------\n",
            "| explained_variance | 0.912    |\n",
            "| fps                | 405      |\n",
            "| nupdates           | 4200     |\n",
            "| policy_entropy     | 0.252    |\n",
            "| total_timesteps    | 21000    |\n",
            "| value_loss         | 0.00296  |\n",
            "---------------------------------\n",
            "---------------------------------\n",
            "| explained_variance | 0.996    |\n",
            "| fps                | 405      |\n",
            "| nupdates           | 4300     |\n",
            "| policy_entropy     | 0.274    |\n",
            "| total_timesteps    | 21500    |\n",
            "| value_loss         | 0.0054   |\n",
            "---------------------------------\n",
            "---------------------------------\n",
            "| explained_variance | 0.949    |\n",
            "| fps                | 404      |\n",
            "| nupdates           | 4400     |\n",
            "| policy_entropy     | 0.254    |\n",
            "| total_timesteps    | 22000    |\n",
            "| value_loss         | 0.00174  |\n",
            "---------------------------------\n",
            "---------------------------------\n",
            "| explained_variance | 0.989    |\n",
            "| fps                | 404      |\n",
            "| nupdates           | 4500     |\n",
            "| policy_entropy     | 0.2      |\n",
            "| total_timesteps    | 22500    |\n",
            "| value_loss         | 0.00301  |\n",
            "---------------------------------\n",
            "---------------------------------\n",
            "| explained_variance | -21.1    |\n",
            "| fps                | 404      |\n",
            "| nupdates           | 4600     |\n",
            "| policy_entropy     | 0.194    |\n",
            "| total_timesteps    | 23000    |\n",
            "| value_loss         | 0.000808 |\n",
            "---------------------------------\n",
            "---------------------------------\n",
            "| explained_variance | 0.98     |\n",
            "| fps                | 404      |\n",
            "| nupdates           | 4700     |\n",
            "| policy_entropy     | 0.189    |\n",
            "| total_timesteps    | 23500    |\n",
            "| value_loss         | 0.00208  |\n",
            "---------------------------------\n",
            "---------------------------------\n",
            "| explained_variance | -0.825   |\n",
            "| fps                | 404      |\n",
            "| nupdates           | 4800     |\n",
            "| policy_entropy     | 0.298    |\n",
            "| total_timesteps    | 24000    |\n",
            "| value_loss         | 0.0138   |\n",
            "---------------------------------\n",
            "---------------------------------\n",
            "| explained_variance | 0.949    |\n",
            "| fps                | 404      |\n",
            "| nupdates           | 4900     |\n",
            "| policy_entropy     | 0.192    |\n",
            "| total_timesteps    | 24500    |\n",
            "| value_loss         | 0.0096   |\n",
            "---------------------------------\n",
            "---------------------------------\n",
            "| explained_variance | 0.39     |\n",
            "| fps                | 404      |\n",
            "| nupdates           | 5000     |\n",
            "| policy_entropy     | 0.326    |\n",
            "| total_timesteps    | 25000    |\n",
            "| value_loss         | 0.014    |\n",
            "---------------------------------\n",
            "---------------------------------\n",
            "| explained_variance | 0.989    |\n",
            "| fps                | 404      |\n",
            "| nupdates           | 5100     |\n",
            "| policy_entropy     | 0.114    |\n",
            "| total_timesteps    | 25500    |\n",
            "| value_loss         | 0.00303  |\n",
            "---------------------------------\n",
            "---------------------------------\n",
            "| explained_variance | 0.81     |\n",
            "| fps                | 404      |\n",
            "| nupdates           | 5200     |\n",
            "| policy_entropy     | 0.267    |\n",
            "| total_timesteps    | 26000    |\n",
            "| value_loss         | 0.00634  |\n",
            "---------------------------------\n",
            "---------------------------------\n",
            "| explained_variance | 0.978    |\n",
            "| fps                | 403      |\n",
            "| nupdates           | 5300     |\n",
            "| policy_entropy     | 0.138    |\n",
            "| total_timesteps    | 26500    |\n",
            "| value_loss         | 0.000478 |\n",
            "---------------------------------\n",
            "---------------------------------\n",
            "| explained_variance | 0.885    |\n",
            "| fps                | 403      |\n",
            "| nupdates           | 5400     |\n",
            "| policy_entropy     | 0.326    |\n",
            "| total_timesteps    | 27000    |\n",
            "| value_loss         | 0.00396  |\n",
            "---------------------------------\n",
            "---------------------------------\n",
            "| explained_variance | 0.948    |\n",
            "| fps                | 403      |\n",
            "| nupdates           | 5500     |\n",
            "| policy_entropy     | 0.206    |\n",
            "| total_timesteps    | 27500    |\n",
            "| value_loss         | 0.0011   |\n",
            "---------------------------------\n",
            "---------------------------------\n",
            "| explained_variance | 0.889    |\n",
            "| fps                | 403      |\n",
            "| nupdates           | 5600     |\n",
            "| policy_entropy     | 0.321    |\n",
            "| total_timesteps    | 28000    |\n",
            "| value_loss         | 0.003    |\n",
            "---------------------------------\n",
            "---------------------------------\n",
            "| explained_variance | 0.905    |\n",
            "| fps                | 404      |\n",
            "| nupdates           | 5700     |\n",
            "| policy_entropy     | 0.212    |\n",
            "| total_timesteps    | 28500    |\n",
            "| value_loss         | 0.000966 |\n",
            "---------------------------------\n",
            "---------------------------------\n",
            "| explained_variance | 0.837    |\n",
            "| fps                | 404      |\n",
            "| nupdates           | 5800     |\n",
            "| policy_entropy     | 0.188    |\n",
            "| total_timesteps    | 29000    |\n",
            "| value_loss         | 0.00138  |\n",
            "---------------------------------\n",
            "---------------------------------\n",
            "| explained_variance | 0.703    |\n",
            "| fps                | 404      |\n",
            "| nupdates           | 5900     |\n",
            "| policy_entropy     | 0.296    |\n",
            "| total_timesteps    | 29500    |\n",
            "| value_loss         | 0.00321  |\n",
            "---------------------------------\n",
            "---------------------------------\n",
            "| explained_variance | 0.121    |\n",
            "| fps                | 404      |\n",
            "| nupdates           | 6000     |\n",
            "| policy_entropy     | 0.267    |\n",
            "| total_timesteps    | 30000    |\n",
            "| value_loss         | 0.00227  |\n",
            "---------------------------------\n",
            "---------------------------------\n",
            "| explained_variance | -23.1    |\n",
            "| fps                | 404      |\n",
            "| nupdates           | 6100     |\n",
            "| policy_entropy     | 0.28     |\n",
            "| total_timesteps    | 30500    |\n",
            "| value_loss         | 0.0141   |\n",
            "---------------------------------\n",
            "---------------------------------\n",
            "| explained_variance | 0.769    |\n",
            "| fps                | 404      |\n",
            "| nupdates           | 6200     |\n",
            "| policy_entropy     | 0.263    |\n",
            "| total_timesteps    | 31000    |\n",
            "| value_loss         | 0.000329 |\n",
            "---------------------------------\n",
            "---------------------------------\n",
            "| explained_variance | 0.991    |\n",
            "| fps                | 404      |\n",
            "| nupdates           | 6300     |\n",
            "| policy_entropy     | 0.326    |\n",
            "| total_timesteps    | 31500    |\n",
            "| value_loss         | 0.000506 |\n",
            "---------------------------------\n",
            "---------------------------------\n",
            "| explained_variance | -101     |\n",
            "| fps                | 403      |\n",
            "| nupdates           | 6400     |\n",
            "| policy_entropy     | 0.351    |\n",
            "| total_timesteps    | 32000    |\n",
            "| value_loss         | 0.00365  |\n",
            "---------------------------------\n",
            "---------------------------------\n",
            "| explained_variance | 0.968    |\n",
            "| fps                | 403      |\n",
            "| nupdates           | 6500     |\n",
            "| policy_entropy     | 0.284    |\n",
            "| total_timesteps    | 32500    |\n",
            "| value_loss         | 0.00114  |\n",
            "---------------------------------\n",
            "---------------------------------\n",
            "| explained_variance | 0.222    |\n",
            "| fps                | 403      |\n",
            "| nupdates           | 6600     |\n",
            "| policy_entropy     | 0.355    |\n",
            "| total_timesteps    | 33000    |\n",
            "| value_loss         | 0.00377  |\n",
            "---------------------------------\n",
            "---------------------------------\n",
            "| explained_variance | 0.253    |\n",
            "| fps                | 404      |\n",
            "| nupdates           | 6700     |\n",
            "| policy_entropy     | 0.148    |\n",
            "| total_timesteps    | 33500    |\n",
            "| value_loss         | 0.00929  |\n",
            "---------------------------------\n",
            "----------------------------------\n",
            "| explained_variance | -6.41e+03 |\n",
            "| fps                | 404       |\n",
            "| nupdates           | 6800      |\n",
            "| policy_entropy     | 0.361     |\n",
            "| total_timesteps    | 34000     |\n",
            "| value_loss         | 0.0101    |\n",
            "----------------------------------\n",
            "---------------------------------\n",
            "| explained_variance | 0.438    |\n",
            "| fps                | 404      |\n",
            "| nupdates           | 6900     |\n",
            "| policy_entropy     | 0.169    |\n",
            "| total_timesteps    | 34500    |\n",
            "| value_loss         | 0.0075   |\n",
            "---------------------------------\n",
            "---------------------------------\n",
            "| explained_variance | 0.536    |\n",
            "| fps                | 404      |\n",
            "| nupdates           | 7000     |\n",
            "| policy_entropy     | 0.205    |\n",
            "| total_timesteps    | 35000    |\n",
            "| value_loss         | 0.00592  |\n",
            "---------------------------------\n",
            "---------------------------------\n",
            "| explained_variance | -5.86    |\n",
            "| fps                | 404      |\n",
            "| nupdates           | 7100     |\n",
            "| policy_entropy     | 0.0702   |\n",
            "| total_timesteps    | 35500    |\n",
            "| value_loss         | 0.000616 |\n",
            "---------------------------------\n",
            "---------------------------------\n",
            "| explained_variance | 0.886    |\n",
            "| fps                | 404      |\n",
            "| nupdates           | 7200     |\n",
            "| policy_entropy     | 0.223    |\n",
            "| total_timesteps    | 36000    |\n",
            "| value_loss         | 0.00359  |\n",
            "---------------------------------\n",
            "---------------------------------\n",
            "| explained_variance | 0.879    |\n",
            "| fps                | 404      |\n",
            "| nupdates           | 7300     |\n",
            "| policy_entropy     | 0.0485   |\n",
            "| total_timesteps    | 36500    |\n",
            "| value_loss         | 0.000188 |\n",
            "---------------------------------\n",
            "---------------------------------\n",
            "| explained_variance | 0.903    |\n",
            "| fps                | 404      |\n",
            "| nupdates           | 7400     |\n",
            "| policy_entropy     | 0.247    |\n",
            "| total_timesteps    | 37000    |\n",
            "| value_loss         | 0.00398  |\n",
            "---------------------------------\n",
            "---------------------------------\n",
            "| explained_variance | 0.977    |\n",
            "| fps                | 404      |\n",
            "| nupdates           | 7500     |\n",
            "| policy_entropy     | 0.0466   |\n",
            "| total_timesteps    | 37500    |\n",
            "| value_loss         | 4.15e-05 |\n",
            "---------------------------------\n",
            "---------------------------------\n",
            "| explained_variance | 0.996    |\n",
            "| fps                | 404      |\n",
            "| nupdates           | 7600     |\n",
            "| policy_entropy     | 0.21     |\n",
            "| total_timesteps    | 38000    |\n",
            "| value_loss         | 0.00298  |\n",
            "---------------------------------\n",
            "---------------------------------\n",
            "| explained_variance | 0.95     |\n",
            "| fps                | 404      |\n",
            "| nupdates           | 7700     |\n",
            "| policy_entropy     | 0.0501   |\n",
            "| total_timesteps    | 38500    |\n",
            "| value_loss         | 0.000233 |\n",
            "---------------------------------\n",
            "---------------------------------\n",
            "| explained_variance | 0.999    |\n",
            "| fps                | 404      |\n",
            "| nupdates           | 7800     |\n",
            "| policy_entropy     | 0.263    |\n",
            "| total_timesteps    | 39000    |\n",
            "| value_loss         | 0.000778 |\n",
            "---------------------------------\n",
            "---------------------------------\n",
            "| explained_variance | 0.964    |\n",
            "| fps                | 405      |\n",
            "| nupdates           | 7900     |\n",
            "| policy_entropy     | 0.169    |\n",
            "| total_timesteps    | 39500    |\n",
            "| value_loss         | 0.00159  |\n",
            "---------------------------------\n",
            "---------------------------------\n",
            "| explained_variance | 1        |\n",
            "| fps                | 405      |\n",
            "| nupdates           | 8000     |\n",
            "| policy_entropy     | 0.291    |\n",
            "| total_timesteps    | 40000    |\n",
            "| value_loss         | 0.000213 |\n",
            "---------------------------------\n",
            "---------------------------------\n",
            "| explained_variance | 0.973    |\n",
            "| fps                | 405      |\n",
            "| nupdates           | 8100     |\n",
            "| policy_entropy     | 0.16     |\n",
            "| total_timesteps    | 40500    |\n",
            "| value_loss         | 4.56e-05 |\n",
            "---------------------------------\n",
            "---------------------------------\n",
            "| explained_variance | 0.999    |\n",
            "| fps                | 405      |\n",
            "| nupdates           | 8200     |\n",
            "| policy_entropy     | 0.107    |\n",
            "| total_timesteps    | 41000    |\n",
            "| value_loss         | 0.000222 |\n",
            "---------------------------------\n",
            "---------------------------------\n",
            "| explained_variance | 0.661    |\n",
            "| fps                | 405      |\n",
            "| nupdates           | 8300     |\n",
            "| policy_entropy     | 0.162    |\n",
            "| total_timesteps    | 41500    |\n",
            "| value_loss         | 0.000799 |\n",
            "---------------------------------\n",
            "---------------------------------\n",
            "| explained_variance | 0.989    |\n",
            "| fps                | 405      |\n",
            "| nupdates           | 8400     |\n",
            "| policy_entropy     | 0.0353   |\n",
            "| total_timesteps    | 42000    |\n",
            "| value_loss         | 0.000454 |\n",
            "---------------------------------\n",
            "---------------------------------\n",
            "| explained_variance | 0.549    |\n",
            "| fps                | 405      |\n",
            "| nupdates           | 8500     |\n",
            "| policy_entropy     | 0.217    |\n",
            "| total_timesteps    | 42500    |\n",
            "| value_loss         | 8.36e-05 |\n",
            "---------------------------------\n",
            "---------------------------------\n",
            "| explained_variance | 0.999    |\n",
            "| fps                | 405      |\n",
            "| nupdates           | 8600     |\n",
            "| policy_entropy     | 0.0597   |\n",
            "| total_timesteps    | 43000    |\n",
            "| value_loss         | 0.000229 |\n",
            "---------------------------------\n",
            "---------------------------------\n",
            "| explained_variance | -0.855   |\n",
            "| fps                | 405      |\n",
            "| nupdates           | 8700     |\n",
            "| policy_entropy     | 0.188    |\n",
            "| total_timesteps    | 43500    |\n",
            "| value_loss         | 9.69e-05 |\n",
            "---------------------------------\n",
            "---------------------------------\n",
            "| explained_variance | 0.996    |\n",
            "| fps                | 405      |\n",
            "| nupdates           | 8800     |\n",
            "| policy_entropy     | 0.0401   |\n",
            "| total_timesteps    | 44000    |\n",
            "| value_loss         | 0.000261 |\n",
            "---------------------------------\n",
            "---------------------------------\n",
            "| explained_variance | 0.983    |\n",
            "| fps                | 405      |\n",
            "| nupdates           | 8900     |\n",
            "| policy_entropy     | 0.0772   |\n",
            "| total_timesteps    | 44500    |\n",
            "| value_loss         | 0.000441 |\n",
            "---------------------------------\n",
            "---------------------------------\n",
            "| explained_variance | 0.996    |\n",
            "| fps                | 405      |\n",
            "| nupdates           | 9000     |\n",
            "| policy_entropy     | 0.0534   |\n",
            "| total_timesteps    | 45000    |\n",
            "| value_loss         | 8.45e-05 |\n",
            "---------------------------------\n",
            "---------------------------------\n",
            "| explained_variance | 0.962    |\n",
            "| fps                | 405      |\n",
            "| nupdates           | 9100     |\n",
            "| policy_entropy     | 0.105    |\n",
            "| total_timesteps    | 45500    |\n",
            "| value_loss         | 0.000587 |\n",
            "---------------------------------\n",
            "---------------------------------\n",
            "| explained_variance | 0.998    |\n",
            "| fps                | 405      |\n",
            "| nupdates           | 9200     |\n",
            "| policy_entropy     | 0.0607   |\n",
            "| total_timesteps    | 46000    |\n",
            "| value_loss         | 3.74e-05 |\n",
            "---------------------------------\n",
            "---------------------------------\n",
            "| explained_variance | 0.992    |\n",
            "| fps                | 405      |\n",
            "| nupdates           | 9300     |\n",
            "| policy_entropy     | 0.0802   |\n",
            "| total_timesteps    | 46500    |\n",
            "| value_loss         | 9.21e-05 |\n",
            "---------------------------------\n",
            "---------------------------------\n",
            "| explained_variance | 0.537    |\n",
            "| fps                | 405      |\n",
            "| nupdates           | 9400     |\n",
            "| policy_entropy     | 0.0772   |\n",
            "| total_timesteps    | 47000    |\n",
            "| value_loss         | 0.026    |\n",
            "---------------------------------\n",
            "---------------------------------\n",
            "| explained_variance | 0.967    |\n",
            "| fps                | 405      |\n",
            "| nupdates           | 9500     |\n",
            "| policy_entropy     | 0.0595   |\n",
            "| total_timesteps    | 47500    |\n",
            "| value_loss         | 0.000435 |\n",
            "---------------------------------\n",
            "---------------------------------\n",
            "| explained_variance | 0.994    |\n",
            "| fps                | 405      |\n",
            "| nupdates           | 9600     |\n",
            "| policy_entropy     | 0.104    |\n",
            "| total_timesteps    | 48000    |\n",
            "| value_loss         | 5.31e-05 |\n",
            "---------------------------------\n",
            "---------------------------------\n",
            "| explained_variance | 0.937    |\n",
            "| fps                | 405      |\n",
            "| nupdates           | 9700     |\n",
            "| policy_entropy     | 0.188    |\n",
            "| total_timesteps    | 48500    |\n",
            "| value_loss         | 7.03e-05 |\n",
            "---------------------------------\n",
            "---------------------------------\n",
            "| explained_variance | 0.995    |\n",
            "| fps                | 405      |\n",
            "| nupdates           | 9800     |\n",
            "| policy_entropy     | 0.172    |\n",
            "| total_timesteps    | 49000    |\n",
            "| value_loss         | 0.00156  |\n",
            "---------------------------------\n",
            "---------------------------------\n",
            "| explained_variance | 0.584    |\n",
            "| fps                | 405      |\n",
            "| nupdates           | 9900     |\n",
            "| policy_entropy     | 0.144    |\n",
            "| total_timesteps    | 49500    |\n",
            "| value_loss         | 0.000193 |\n",
            "---------------------------------\n",
            "---------------------------------\n",
            "| explained_variance | 0.854    |\n",
            "| fps                | 405      |\n",
            "| nupdates           | 10000    |\n",
            "| policy_entropy     | 0.0911   |\n",
            "| total_timesteps    | 50000    |\n",
            "| value_loss         | 0.00335  |\n",
            "---------------------------------\n"
          ],
          "name": "stdout"
        },
        {
          "output_type": "execute_result",
          "data": {
            "text/plain": [
              "<stable_baselines.a2c.a2c.A2C at 0x7fbb0ada9450>"
            ]
          },
          "metadata": {
            "tags": []
          },
          "execution_count": 46
        }
      ]
    },
    {
      "cell_type": "markdown",
      "metadata": {
        "id": "n2pDtqga-zpH"
      },
      "source": [
        "# 3.1 Add Custom Callbacks"
      ]
    },
    {
      "cell_type": "code",
      "metadata": {
        "id": "5Dtr810r-mH9"
      },
      "source": [],
      "execution_count": null,
      "outputs": []
    },
    {
      "cell_type": "markdown",
      "metadata": {
        "id": "mdCtxQavrt82"
      },
      "source": [
        "# 4. Evaluation"
      ]
    },
    {
      "cell_type": "code",
      "metadata": {
        "id": "MQnPQuv0rt82",
        "colab": {
          "base_uri": "https://localhost:8080/"
        },
        "outputId": "96522ded-2e89-41bd-a168-b70d72e4f55b"
      },
      "source": [
        "# Env without Indicators\n",
        "env = gym.make('stocks-v0', df=df, frame_bound=(90,100), window_size=5)\n",
        "\n",
        "# # Env With More Indicators\n",
        "# env = MyCustomEnv(df=df, window_size=12, frame_bound=(80,250))\n",
        "\n",
        "obs = env.reset()\n",
        "\n",
        "while True:\n",
        "    obs = obs[np.newaxis, ...]\n",
        "    action, _states = model.predict(obs)\n",
        "    print(\"Predicted Action: \",action) # Sell=0 and Buy=1\n",
        "    obs, rewards, done, info = env.step(action)\n",
        "    if done:\n",
        "        print(\"info\", info)\n",
        "        break"
      ],
      "execution_count": null,
      "outputs": [
        {
          "output_type": "stream",
          "text": [
            "info {'total_reward': 2.0700000000000003, 'total_profit': 1.0978295077433626, 'position': 0}\n"
          ],
          "name": "stdout"
        }
      ]
    },
    {
      "cell_type": "code",
      "metadata": {
        "colab": {
          "base_uri": "https://localhost:8080/"
        },
        "id": "vjR0bvx6ogsa",
        "outputId": "d50db5a9-f493-4fb9-dc65-8f878df08923"
      },
      "source": [
        "df.shape"
      ],
      "execution_count": null,
      "outputs": [
        {
          "output_type": "execute_result",
          "data": {
            "text/plain": [
              "(253, 5)"
            ]
          },
          "metadata": {
            "tags": []
          },
          "execution_count": 54
        }
      ]
    },
    {
      "cell_type": "code",
      "metadata": {
        "id": "0ZHLl_HrokY9"
      },
      "source": [
        "# Train : Test = 80% : 20%\n",
        "# Train : Val : Test = 60% : 20% : 20%\n",
        "\n",
        "# 120th coulmn\n",
        "# 130th column"
      ],
      "execution_count": null,
      "outputs": []
    },
    {
      "cell_type": "code",
      "metadata": {
        "colab": {
          "base_uri": "https://localhost:8080/"
        },
        "id": "F3UJ6y2fndDK",
        "outputId": "a1acfb2f-eb94-4549-a5fc-ef921f4d8dc4"
      },
      "source": [
        "env = gym.make('stocks-v0', df=df, frame_bound=(120,130), window_size=5)\n",
        "\n",
        "obs = env.reset()\n",
        "# (10,5,2)\n",
        "# model.predict()\n",
        "\n",
        "while True:\n",
        "    print(obs.shape)\n",
        "\n",
        "    # obs = obs[np.newaxis, ...]\n",
        "    # print(obs.shape)\n",
        "    obs = np.expand_dims(obs, axis=0)\n",
        "\n",
        "    action, _states = model.predict(obs) #\n",
        "\n",
        "    obs, rewards, done, info = env.step(action)\n",
        "\n",
        "    if done:\n",
        "        print(\"info\", info)\n",
        "        break"
      ],
      "execution_count": null,
      "outputs": [
        {
          "output_type": "stream",
          "text": [
            "(5, 2)\n",
            "(1, 5, 2)\n",
            "(1, 5, 2)\n",
            "(5, 2)\n",
            "(1, 5, 2)\n",
            "(1, 5, 2)\n",
            "(5, 2)\n",
            "(1, 5, 2)\n",
            "(1, 5, 2)\n",
            "(5, 2)\n",
            "(1, 5, 2)\n",
            "(1, 5, 2)\n",
            "(5, 2)\n",
            "(1, 5, 2)\n",
            "(1, 5, 2)\n",
            "(5, 2)\n",
            "(1, 5, 2)\n",
            "(1, 5, 2)\n",
            "(5, 2)\n",
            "(1, 5, 2)\n",
            "(1, 5, 2)\n",
            "(5, 2)\n",
            "(1, 5, 2)\n",
            "(1, 5, 2)\n",
            "(5, 2)\n",
            "(1, 5, 2)\n",
            "(1, 5, 2)\n",
            "info {'total_reward': -2.8900000000000006, 'total_profit': 0.8113939621973711, 'position': 1}\n"
          ],
          "name": "stdout"
        }
      ]
    },
    {
      "cell_type": "code",
      "metadata": {
        "id": "A3_uFlT5ojtW"
      },
      "source": [],
      "execution_count": null,
      "outputs": []
    },
    {
      "cell_type": "code",
      "metadata": {
        "id": "1DN1_5nart83",
        "colab": {
          "base_uri": "https://localhost:8080/",
          "height": 417
        },
        "outputId": "6227d919-8b59-4ce5-c74b-3c47d017dda4"
      },
      "source": [
        "plt.figure(figsize=(15,6))\n",
        "plt.cla()\n",
        "env.render_all()\n",
        "plt.show()"
      ],
      "execution_count": null,
      "outputs": [
        {
          "output_type": "display_data",
          "data": {
            "image/png": "[encoded data removed]",
            "text/plain": [
              "<Figure size 1080x432 with 1 Axes>"
            ]
          },
          "metadata": {
            "tags": [],
            "needs_background": "light"
          }
        }
      ]
    },
    {
      "cell_type": "code",
      "metadata": {
        "id": "QBFaWP6qrt84"
      },
      "source": [],
      "execution_count": null,
      "outputs": []
    }
  ]
}